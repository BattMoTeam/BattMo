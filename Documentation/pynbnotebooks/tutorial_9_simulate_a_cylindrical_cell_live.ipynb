{
 "cells": [
  {
   "cell_type": "markdown",
   "metadata": {},
   "source": [
    "\n",
    "# <span style=\"color:rgb(213,80,0)\">Tutorial 9 \\- Simulate a cylindrical cell</span>\n",
    "\n",
    "## Introduction\n",
    "\n",
    "In this tutorial, we simulate a multilayer pouch cell. We use the same material property as in the other tutorials\n",
    ""
   ]
  },
  {
   "cell_type": "code",
   "execution_count": 1,
   "metadata": {},
   "source": [
    "jsonstruct_material = parseBattmoJson('Examples/jsondatafiles/sample_input.json');"
   ],
   "outputs": []
  },
  {
   "cell_type": "markdown",
   "metadata": {},
   "source": [
    "\n",
    "Next, we load and parse a json file where we have chosen some parameters for the multilayer pouch domain. Note that all the parameters are described in a json schema, see [Geometry.schema.json](https://github.com/BattMoTeam/BattMo/blob/main/Utilities/JsonSchemas/Geometry.schema.json), even if the simplest way to proceed is to start with an example, in this case given by [4680\\-geometry.json](https://github.com/BattMoTeam/BattMo/blob/main/Examples/JsonDataFiles/4680-geometry.json).\n",
    ""
   ]
  },
  {
   "cell_type": "code",
   "execution_count": 2,
   "metadata": {},
   "source": [
    "jsonfilename = 'Examples/JsonDataFiles/4680-geometry.json';\n",
    "jsonstruct_geometry = parseBattmoJson(jsonfilename);"
   ],
   "outputs": []
  },
  {
   "cell_type": "markdown",
   "metadata": {},
   "source": [
    "\n",
    "We change some parameters to get a smaller model and simulation time.\n",
    ""
   ]
  },
  {
   "cell_type": "code",
   "execution_count": 3,
   "metadata": {},
   "source": [
    "jsonstruct_geometry.Geometry.rOuter = jsonstruct_geometry.Geometry.rInner + 4*milli*meter;\n",
    "jsonstruct_geometry.Geometry.nL     = 2;\n",
    "jsonstruct_geometry.Geometry.nas    = 20;"
   ],
   "outputs": []
  },
  {
   "cell_type": "markdown",
   "metadata": {},
   "source": [
    "\n",
    "We use [FlatJsonViewer.m](https://github.com/BattMoTeam/BattMo/blob/main/Utilities/JsonUtils/FlatJsonViewer.m) to flatten the json structure and print it to screen.\n",
    ""
   ]
  },
  {
   "cell_type": "code",
   "execution_count": 4,
   "metadata": {},
   "source": [
    "fjv = flattenJsonStruct(jsonstruct_geometry);\n",
    "fjv.print();"
   ],
   "outputs": []
  },
  {
   "cell_type": "markdown",
   "metadata": {},
   "source": [
    "\n",
    "We load and parse the control protocol\n",
    ""
   ]
  },
  {
   "cell_type": "code",
   "execution_count": 5,
   "metadata": {},
   "source": [
    "jsonfilename = fullfile('Examples', 'jsondatafiles', 'cc_discharge_control.json');\n",
    "jsonstruct_control = parseBattmoJson(jsonfilename);"
   ],
   "outputs": []
  },
  {
   "cell_type": "markdown",
   "metadata": {},
   "source": [
    "\n",
    "We load and parse the simulation settings. This is optional. Typically, reasonable choices are made by default.\n",
    ""
   ]
  },
  {
   "cell_type": "code",
   "execution_count": 6,
   "metadata": {},
   "source": [
    "jsonfilename = fullfile('Examples', 'jsondatafiles', 'simulation_parameters.json');\n",
    "jsonstruct_simparams = parseBattmoJson(jsonfilename);"
   ],
   "outputs": []
  },
  {
   "cell_type": "markdown",
   "metadata": {},
   "source": [
    "\n",
    "Now, we can merge these parameter definitions into a single parameter set to obtain a jsonstruct that has all the input needed by the simulator.\n",
    ""
   ]
  },
  {
   "cell_type": "code",
   "execution_count": 7,
   "metadata": {},
   "source": [
    "jsonstruct = mergeJsonStructs({jsonstruct_geometry , ...\n",
    "    jsonstruct_material , ...\n",
    "    jsonstruct_control  , ...\n",
    "    jsonstruct_simparams}, 'warn', false);"
   ],
   "outputs": []
  },
  {
   "cell_type": "markdown",
   "metadata": {},
   "source": [
    "## Setup the model for inspection\n",
    "\n",
    "When we run the simulation using function [runBatteryJson.m](https://github.com/BattMoTeam/BattMo/blob/main/Examples/JsonInput/runBatteryJson.m), the model is setup. In the case where we want to setup the model for inspection, prior to simulation, we can use the function [setupModelFromJson.m](https://github.com/BattMoTeam/BattMo/blob/main/Utilities/JsonUtils/setupModelFromJson.m)\n",
    ""
   ]
  },
  {
   "cell_type": "code",
   "execution_count": 8,
   "metadata": {},
   "source": [
    "model = setupModelFromJson(jsonstruct);"
   ],
   "outputs": []
  },
  {
   "cell_type": "markdown",
   "metadata": {},
   "source": [
    "\n",
    "We use the [plotBatteryGrid.m](https://github.com/BattMoTeam/BattMo/blob/main/Utilities/Visualization/plotBatteryGrid.m) function to show the grid\n",
    ""
   ]
  },
  {
   "cell_type": "code",
   "execution_count": 9,
   "metadata": {},
   "source": [
    "plotBatteryGrid(model)\n",
    "% make the axis tight and set the camera viewing angle\n",
    "axis tight\n",
    "view(45,45)"
   ],
   "outputs": []
  },
  {
   "cell_type": "markdown",
   "metadata": {},
   "source": [
    "## Run the simulation"
   ]
  },
  {
   "cell_type": "code",
   "execution_count": 10,
   "metadata": {},
   "source": [
    "output = runBatteryJson(jsonstruct);"
   ],
   "outputs": []
  },
  {
   "cell_type": "markdown",
   "metadata": {},
   "source": [
    "## Visualize the Results\n",
    "\n",
    "extract the time and voltage quantities\n",
    ""
   ]
  },
  {
   "cell_type": "code",
   "execution_count": 11,
   "metadata": {},
   "source": [
    "states = output.states;\n",
    "\n",
    "time    = cellfun(@(state) state.time, states);\n",
    "voltage = cellfun(@(state) state.('Control').E, states);"
   ],
   "outputs": []
  },
  {
   "cell_type": "markdown",
   "metadata": {},
   "source": [
    "\n",
    "We plot the discharge curves together in a new figure\n",
    ""
   ]
  },
  {
   "cell_type": "code",
   "execution_count": 12,
   "metadata": {},
   "source": [
    "figure();\n",
    "plot((time/hour), voltage, '-', 'linewidth', 3)\n",
    "xlabel('Time  /  h')\n",
    "ylabel('Cell Voltage  /  V')\n",
    "title('Voltage');"
   ],
   "outputs": []
  },
  {
   "cell_type": "markdown",
   "metadata": {},
   "source": [
    "\n",
    "For a given time step, we plot the concentration on the grid in the negative and positive electrodes.\n",
    ""
   ]
  },
  {
   "cell_type": "code",
   "execution_count": 13,
   "metadata": {},
   "source": [
    "% Set the timestep we want to visualize\n",
    "timestep = 20;\n",
    "\n",
    "% get the state of the simulation at the given timestep\n",
    "state = states{timestep};\n",
    "\n",
    "% create a new figure\n",
    "figure()\n",
    "\n",
    "% plot the surface concentration of lithium in the negative electrode active material\n",
    "plotCellData(model.NegativeElectrode.Coating.grid, ...\n",
    "    state.NegativeElectrode.Coating.ActiveMaterial.SolidDiffusion.cSurface/(mol/litre), ...\n",
    "    'edgecolor', 'none');\n",
    "\n",
    "% plot the surface concentration of lithium in the positive electrode active material\n",
    "plotCellData(model.PositiveElectrode.Coating.grid, ...\n",
    "    state.PositiveElectrode.Coating.ActiveMaterial.SolidDiffusion.cSurface/(mol/litre), ...\n",
    "    'edgecolor', 'none')\n",
    "\n",
    "title('Active Material Surface Lithium Concentration  /  mol \\cdot L^{-1}');\n",
    "% add a colorbar\n",
    "colorbar()\n",
    "view(45,45)"
   ],
   "outputs": []
}
 ],
 "metadata": {
  "kernelspec": {
   "display_name": "MATLAB (matlabkernel)",
   "language": "matlab",
   "name": "matlab"
  },
  "language_info": {
   "file_extension": ".m",
   "mimetype": "text/matlab",
   "name": "matlab",
   "nbconvert_exporter": "matlab",
   "pygments_lexer": "matlab",
   "version": "24.2.0.2863752"
  }
 },
 "nbformat": 4,
 "nbformat_minor": 4
}