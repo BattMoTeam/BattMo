{
 "cells": [
  {
   "cell_type": "markdown",
   "metadata": {},
   "source": [
    "\n",
    "# <span style=\"color:rgb(213,80,0)\">Tutorial 5 \\- Simulate CC\\-CV Cycling</span>\n",
    "\n",
    "## Introduction\n",
    "\n",
    "In this tutorial, we will use a P2D model to simulate CC\\-CV cycling. After completing this tutorial, you should have a working knowledge of:\n",
    "\n",
    "-  How to define and modify cycling protocols in BattMo\n",
    "\n",
    "We'll use the same model from Tutorial 1.\n",
    ""
   ]
  },
  {
   "cell_type": "code",
   "execution_count": 1,
   "metadata": {},
   "source": [
    "jsonstruct = parseBattmoJson('Examples/jsondatafiles/sample_input.json');"
   ],
   "outputs": []
  },
  {
   "cell_type": "markdown",
   "metadata": {},
   "source": [
    "\n",
    "Parameters are defined in the JSON parameter file and parsed into the MATLAB structure. Once the JSON file has been read into MATLAB as a jsonstruct, its properties can be modified programmatically.\n",
    "\n",
    "## Explore the Control Definition\n",
    "\n",
    "Let's begin by reviewing the control protocol in BattMo, with the command:\n",
    ""
   ]
  },
  {
   "cell_type": "code",
   "execution_count": 2,
   "metadata": {},
   "source": [
    "disp(jsonstruct.Control)"
   ],
   "outputs": [
    {
     "data": {
      "text/plain": [
       "         controlPolicy: 'CCDischarge'\n",
       "                 DRate: 1\n",
       "    lowerCutoffVoltage: 2.4000\n",
       "    upperCutoffVoltage: 4.1000\n",
       "             dIdtLimit: 0.0100\n",
       "             dEdtLimit: 0.0100\n",
       "            rampupTime: 0.1000"
      ]
     },
     "metadata": {},
     "execution_count":  2,
     "output_type": "execute_result"
    }
   ]
  },
  {
   "cell_type": "markdown",
   "metadata": {},
   "source": [
    "\n",
    "We see that the default control protocol is set to a constant current (galvanostatic) discharge. To change to a CC\\-CV cycling protocol, we can use the command:\n",
    ""
   ]
  },
  {
   "cell_type": "code",
   "execution_count": 3,
   "metadata": {},
   "source": [
    "cccv_control_protocol = parseBattmoJson('cccv_control.json');\n",
    "jsonstruct_modified = mergeJsonStructs({cccv_control_protocol, jsonstruct});"
   ],
   "outputs": [
    {
     "data": {
      "text/plain": [
       "parameter Control.controlPolicy is assigned twice with different values. we use the value from first jsonstruct.\n",
       "parameter Control.lowerCutoffVoltage is assigned twice with different values. we use the value from first jsonstruct.\n",
       "parameter Control.upperCutoffVoltage is assigned twice with different values. we use the value from first jsonstruct.\n",
       "parameter Control.dIdtLimit is assigned twice with different values. we use the value from first jsonstruct.\n",
       "parameter Control.dEdtLimit is assigned twice with different values. we use the value from first jsonstruct."
      ]
     },
     "metadata": {},
     "execution_count":  3,
     "output_type": "execute_result"
    }
   ]
  },
  {
   "cell_type": "markdown",
   "metadata": {},
   "source": [
    "\n",
    "Now we can explore the modified control protocol definition with the command:\n",
    ""
   ]
  },
  {
   "cell_type": "code",
   "execution_count": 4,
   "metadata": {},
   "source": [
    "disp(jsonstruct_modified.Control)"
   ],
   "outputs": [
    {
     "data": {
      "text/plain": [
       "         controlPolicy: 'CCCV'\n",
       "        initialControl: 'discharging'\n",
       "        numberOfCycles: 3\n",
       "                 CRate: 1.5000\n",
       "                 DRate: 1\n",
       "    lowerCutoffVoltage: 2.8000\n",
       "    upperCutoffVoltage: 4\n",
       "             dIdtLimit: 1.0000e-05\n",
       "             dEdtLimit: 1.0000e-05\n",
       "            rampupTime: 0.1000"
      ]
     },
     "metadata": {},
     "execution_count":  4,
     "output_type": "execute_result"
    }
   ]
  },
  {
   "cell_type": "markdown",
   "metadata": {},
   "source": [
    "\n",
    "Let's run the simulation and plot the cell voltage curve.\n",
    ""
   ]
  },
  {
   "cell_type": "code",
   "execution_count": 5,
   "metadata": {},
   "source": [
    "% run the simulation\n",
    "output = runBatteryJson(jsonstruct_modified);"
   ],
   "outputs": [
    {
     "data": {
      "text/plain": [
       "Warning: Both the total time and the number of cycles are given. We do not use the given total time value but compute it instead from the number of cycles.\n",
       "Solving timestep 01/45:                       -> 15 Seconds, 468 Milliseconds\n",
       "Solving timestep 02/45: 15 Seconds, 468 Milliseconds -> 30 Seconds, 937 Milliseconds\n",
       "Solving timestep 03/45: 30 Seconds, 937 Milliseconds -> 61 Seconds, 875 Milliseconds\n",
       "Solving timestep 04/45: 61 Seconds, 875 Milliseconds -> 123 Seconds, 750 Milliseconds\n",
       "Solving timestep 05/45: 123 Seconds, 750 Milliseconds -> 247 Seconds, 500 Milliseconds\n",
       "Solving timestep 06/45: 247 Seconds, 500 Milliseconds -> 495 Seconds\n",
       "Solving timestep 07/45: 495 Seconds           -> 990 Seconds\n",
       "Solving timestep 08/45: 990 Seconds           -> 1485 Seconds\n",
       "Solving timestep 09/45: 1485 Seconds          -> 1980 Seconds\n",
       "Solving timestep 10/45: 1980 Seconds          -> 2475 Seconds\n",
       "Solving timestep 11/45: 2475 Seconds          -> 2970 Seconds\n",
       "Solving timestep 12/45: 2970 Seconds          -> 3465 Seconds\n",
       "Solving timestep 13/45: 3465 Seconds          -> 1 Hour, 360 Seconds\n",
       "switch control from CC_discharge1 to CC_discharge2\n",
       "Solver did not converge in 10 iterations for timestep of length 46 Seconds, 24 Milliseconds. Cutting timestep.\n",
       "switch control from CC_discharge1 to CC_discharge2\n",
       "Solving timestep 14/45: 1 Hour, 360 Seconds   -> 1 Hour, 855 Seconds\n",
       "Switch control type from CC_discharge2 to CC_charge1\n",
       "Warning: Matrix is close to singular or badly scaled. Results may be inaccurate. RCOND =  1.766257e-26.\n",
       "Solver failure after 2 iterations for timestep of length 206 Seconds, 826 Milliseconds. Cutting timestep.\n",
       "Failure reason: Linear system rhs have infinite entries\n",
       "Cutting timestep.\n",
       "Solver did not converge in 10 iterations for timestep of length 103 Seconds, 413 Milliseconds. Cutting timestep.\n",
       "Solver did not converge in 10 iterations for timestep of length 51 Seconds, 706 Milliseconds. Cutting timestep.\n",
       "Solving timestep 15/45: 1 Hour, 855 Seconds   -> 1 Hour, 1350 Seconds\n",
       "Solving timestep 16/45: 1 Hour, 1350 Seconds  -> 1 Hour, 1845 Seconds\n",
       "Solving timestep 17/45: 1 Hour, 1845 Seconds  -> 1 Hour, 2340 Seconds\n",
       "Switch control type from CV_charge2 to CC_discharge1\n",
       "Solving timestep 18/45: 1 Hour, 2340 Seconds  -> 1 Hour, 2835 Seconds\n",
       "Solving timestep 19/45: 1 Hour, 2835 Seconds  -> 1 Hour, 3330 Seconds\n",
       "Solving timestep 20/45: 1 Hour, 3330 Seconds  -> 2 Hours, 225 Seconds\n",
       "Solving timestep 21/45: 2 Hours, 225 Seconds  -> 2 Hours, 720 Seconds\n",
       "Solving timestep 22/45: 2 Hours, 720 Seconds  -> 2 Hours, 1215 Seconds\n",
       "switch control from CC_discharge1 to CC_discharge2\n",
       "Solving timestep 23/45: 2 Hours, 1215 Seconds -> 2 Hours, 1710 Seconds\n",
       "Switch control type from CC_discharge2 to CC_charge1\n",
       "Solving timestep 24/45: 2 Hours, 1710 Seconds -> 2 Hours, 2205 Seconds\n",
       "Warning: Matrix is close to singular or badly scaled. Results may be inaccurate. RCOND =  9.939323e-37.\n",
       "Solver failure after 2 iterations for timestep of length 283 Seconds, 898 Milliseconds. Cutting timestep.\n",
       "Failure reason: Linear system rhs have infinite entries\n",
       "Cutting timestep.\n",
       "Warning: Matrix is close to singular or badly scaled. Results may be inaccurate. RCOND =  3.818064e-20.\n",
       "Warning: Matrix is close to singular or badly scaled. Results may be inaccurate. RCOND =  1.038221e-19.\n",
       "Warning: Matrix is close to singular or badly scaled. Results may be inaccurate. RCOND =  2.821940e-19.\n",
       "Warning: Matrix is close to singular or badly scaled. Results may be inaccurate. RCOND =  7.670728e-19.\n",
       "Warning: Matrix is close to singular or badly scaled. Results may be inaccurate. RCOND =  2.085124e-18.\n",
       "Warning: Matrix is close to singular or badly scaled. Results may be inaccurate. RCOND =  5.667952e-18.\n",
       "Warning: Matrix is close to singular or badly scaled. Results may be inaccurate. RCOND =  1.540709e-17.\n",
       "Warning: Matrix is close to singular or badly scaled. Results may be inaccurate. RCOND =  4.188078e-17.\n",
       "Warning: Matrix is close to singular or badly scaled. Results may be inaccurate. RCOND =  1.138435e-16.\n",
       "Solver did not converge in 10 iterations for timestep of length 141 Seconds, 949 Milliseconds. Cutting timestep.\n",
       "Solver did not converge in 10 iterations for timestep of length 70 Seconds, 974 Milliseconds. Cutting timestep.\n",
       "Solving timestep 25/45: 2 Hours, 2205 Seconds -> 2 Hours, 2700 Seconds\n",
       "Solving timestep 26/45: 2 Hours, 2700 Seconds -> 2 Hours, 3195 Seconds\n",
       "Solving timestep 27/45: 2 Hours, 3195 Seconds -> 3 Hours, 90 Seconds\n",
       "Switch control type from CV_charge2 to CC_discharge1\n",
       "Solving timestep 28/45: 3 Hours, 90 Seconds   -> 3 Hours, 585 Seconds\n",
       "Solving timestep 29/45: 3 Hours, 585 Seconds  -> 3 Hours, 1080 Seconds\n",
       "Solving timestep 30/45: 3 Hours, 1080 Seconds -> 3 Hours, 1575 Seconds\n",
       "Solving timestep 31/45: 3 Hours, 1575 Seconds -> 3 Hours, 2070 Seconds\n",
       "Solving timestep 32/45: 3 Hours, 2070 Seconds -> 3 Hours, 2565 Seconds\n",
       "switch control from CC_discharge1 to CC_discharge2\n",
       "Solving timestep 33/45: 3 Hours, 2565 Seconds -> 3 Hours, 3060 Seconds\n",
       "Switch control type from CC_discharge2 to CC_charge1\n",
       "Warning: Matrix is close to singular or badly scaled. Results may be inaccurate. RCOND =  2.185507e-41.\n",
       "Solver failure after 2 iterations for timestep of length 303 Seconds, 639 Milliseconds. Cutting timestep.\n",
       "Failure reason: Linear system rhs have infinite entries\n",
       "Cutting timestep.\n",
       "Warning: Matrix is close to singular or badly scaled. Results may be inaccurate. RCOND =  2.204244e-22.\n",
       "Warning: Matrix is close to singular or badly scaled. Results may be inaccurate. RCOND =  7.792637e-21.\n",
       "Solver failure after 3 iterations for timestep of length 151 Seconds, 819 Milliseconds. Cutting timestep.\n",
       "Failure reason: Linear system rhs have infinite entries\n",
       "Cutting timestep.\n",
       "Solver did not converge in 10 iterations for timestep of length 75 Seconds, 909 Milliseconds. Cutting timestep.\n",
       "Solver did not converge in 10 iterations for timestep of length 37 Seconds, 954 Milliseconds. Cutting timestep.\n",
       "Solving timestep 34/45: 3 Hours, 3060 Seconds -> 3 Hours, 3555 Seconds\n",
       "Solving timestep 35/45: 3 Hours, 3555 Seconds -> 4 Hours, 450 Seconds\n",
       "Solving timestep 36/45: 4 Hours, 450 Seconds  -> 4 Hours, 945 Seconds\n",
       "Switch control type from CV_charge2 to CC_discharge1\n",
       "*** Simulation complete. Solved 36 control steps in 18 Seconds, 550 Milliseconds (termination triggered by stopFunction)  ***"
      ]
     },
     "metadata": {},
     "execution_count":  5,
     "output_type": "execute_result"
    }
   ]
  },
  {
   "cell_type": "markdown",
   "metadata": {},
   "source": [
    "\n",
    "get the states\n",
    ""
   ]
  },
  {
   "cell_type": "code",
   "execution_count": 6,
   "metadata": {},
   "source": [
    "states = output.states;\n",
    "\n",
    "% extract the time and voltage quantities\n",
    "time = cellfun(@(state) state.time, states);\n",
    "voltage = cellfun(@(state) state.('Control').E, states);\n",
    "current = cellfun(@(state) state.('Control').I, states);\n",
    "\n",
    "% calculate the capacity\n",
    "capacity = time .* current;\n",
    "\n",
    "% plot the discharge curve in the figure\n",
    "plot(time/hour, voltage, '-', 'linewidth', 3)\n",
    "\n",
    "% add plot annotations\n",
    "xlabel('Capacity  /  mA \\cdot h')\n",
    "ylabel('Cell Voltage  /  V')"
   ],
   "outputs": [
    {
     "data": {
      "text/html": [
       "<center><img src=\"data:image/png;base64,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\" width=\"620\" alt=\"figure_0.png\"></center>"
      ]
     },
     "metadata": {},
     "execution_count":  6,
     "output_type": "execute_result"
    }
   ]
  },
  {
   "cell_type": "markdown",
   "metadata": {},
   "source": [
    "## Summary\n",
    "\n",
    "In this tutorial, we explored how to modify material parameters in BattMo.\n",
    "\n",
    ""
   ]
  }
 ],
 "metadata": {
  "kernelspec": {
   "display_name": "MATLAB (matlabkernel)",
   "language": "matlab",
   "name": "matlab"
  },
  "language_info": {
   "file_extension": ".m",
   "mimetype": "text/matlab",
   "name": "matlab",
   "nbconvert_exporter": "matlab",
   "pygments_lexer": "matlab",
   "version": "24.2.0.2863752"
  }
 },
 "nbformat": 4,
 "nbformat_minor": 4
}