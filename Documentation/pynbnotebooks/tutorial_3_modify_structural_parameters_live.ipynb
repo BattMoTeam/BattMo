{
 "cells": [
  {
   "cell_type": "markdown",
   "metadata": {},
   "source": [
    "\n",
    "# <span style=\"color:rgb(213,80,0)\">Tutorial 3 \\- Modify Structural Parameters</span>\n",
    "\n",
    "## Introduction\n",
    "\n",
    "In this tutorial, we will use a P2D model to simulate the effects of changing structural parameters (like electrode thickness or porosity) on cell discharge. After completing this tutorial, you should have a working knowledge of:\n",
    "\n",
    "-  Basics of how structural properties are defined in BattMo\n",
    "-  How changing the thickness of one electrode can affect the overall capacity of the cell\n",
    "-  How to setup and execute a parameter sweep\n",
    "\n",
    "We'll use the same model from Tutorial 1.\n",
    ""
   ]
  },
  {
   "cell_type": "code",
   "execution_count": 1,
   "metadata": {},
   "source": [
    "jsonstruct = parseBattmoJson('Examples/jsondatafiles/sample_input.json');"
   ],
   "outputs": []
  },
  {
   "cell_type": "markdown",
   "metadata": {},
   "source": [
    "## Explore the Structural Parameters\n",
    "\n",
    "Structural parameters are defined in the JSON parameter file and parsed into the MATLAB structure. Once the JSON parameter file has been read into MATLAB as a jsonstruct, its properties can be modified programmatically.\n",
    "\n",
    "\n",
    "Let's begin by exploring the parameters of the negative electrode coating with the following command:\n",
    ""
   ]
  },
  {
   "cell_type": "code",
   "execution_count": 2,
   "metadata": {},
   "source": [
    "disp(jsonstruct.NegativeElectrode.Coating)"
   ],
   "outputs": [
    {
     "data": {
      "text/plain": [
       "               thickness: 6.4000e-05\n",
       "                       N: 10\n",
       "        effectiveDensity: 1900\n",
       "    bruggemanCoefficient: 1.5000\n",
       "          ActiveMaterial: [1x1 struct]\n",
       "                  Binder: [1x1 struct]\n",
       "      ConductingAdditive: [1x1 struct]"
      ]
     },
     "metadata": {},
     "execution_count":  2,
     "output_type": "execute_result"
    }
   ]
  },
  {
   "cell_type": "markdown",
   "metadata": {},
   "source": [
    "\n",
    "Here, we can see that the structural and material properties of the coating are defined. Let's try increasing the thickness of the negative electrode from 64 µm to 72 µm.\n",
    ""
   ]
  },
  {
   "cell_type": "code",
   "execution_count": 3,
   "metadata": {},
   "source": [
    "jsonstruct.NegativeElectrode.Coating.thickness = 72*micro;"
   ],
   "outputs": []
  },
  {
   "cell_type": "markdown",
   "metadata": {},
   "source": [
    "\n",
    "Now we can run the simulation and plot the discharge curve against the discharged capacity of the cell.\n",
    ""
   ]
  },
  {
   "cell_type": "code",
   "execution_count": 4,
   "metadata": {},
   "source": [
    "% instantiate an empty figure\n",
    "figure()\n",
    "output = runBatteryJson(jsonstruct);"
   ],
   "outputs": [
    {
     "data": {
      "text/plain": [
       "Solving timestep 01/45:                      -> 3 Seconds, 937 Milliseconds\n",
       "Solving timestep 02/45: 3 Seconds, 937 Milliseconds -> 7 Seconds, 875 Milliseconds\n",
       "Solving timestep 03/45: 7 Seconds, 875 Milliseconds -> 15 Seconds, 750 Milliseconds\n",
       "Solving timestep 04/45: 15 Seconds, 750 Milliseconds -> 31 Seconds, 500 Milliseconds\n",
       "Solving timestep 05/45: 31 Seconds, 500 Milliseconds -> 63 Seconds\n",
       "Solving timestep 06/45: 63 Seconds           -> 126 Seconds\n",
       "Solving timestep 07/45: 126 Seconds          -> 252 Seconds\n",
       "Solving timestep 08/45: 252 Seconds          -> 378 Seconds\n",
       "Solving timestep 09/45: 378 Seconds          -> 504 Seconds\n",
       "Solving timestep 10/45: 504 Seconds          -> 630 Seconds\n",
       "Solving timestep 11/45: 630 Seconds          -> 756 Seconds\n",
       "Solving timestep 12/45: 756 Seconds          -> 882 Seconds\n",
       "Solving timestep 13/45: 882 Seconds          -> 1008 Seconds\n",
       "Solving timestep 14/45: 1008 Seconds         -> 1134 Seconds\n",
       "Solving timestep 15/45: 1134 Seconds         -> 1260 Seconds\n",
       "Solving timestep 16/45: 1260 Seconds         -> 1386 Seconds\n",
       "Solving timestep 17/45: 1386 Seconds         -> 1512 Seconds\n",
       "Solving timestep 18/45: 1512 Seconds         -> 1638 Seconds\n",
       "Solving timestep 19/45: 1638 Seconds         -> 1764 Seconds\n",
       "Solving timestep 20/45: 1764 Seconds         -> 1890 Seconds\n",
       "Solving timestep 21/45: 1890 Seconds         -> 2016 Seconds\n",
       "Solving timestep 22/45: 2016 Seconds         -> 2142 Seconds\n",
       "Solving timestep 23/45: 2142 Seconds         -> 2268 Seconds\n",
       "Solving timestep 24/45: 2268 Seconds         -> 2394 Seconds\n",
       "Solving timestep 25/45: 2394 Seconds         -> 2520 Seconds\n",
       "Solving timestep 26/45: 2520 Seconds         -> 2646 Seconds\n",
       "Solving timestep 27/45: 2646 Seconds         -> 2772 Seconds\n",
       "Solving timestep 28/45: 2772 Seconds         -> 2898 Seconds\n",
       "Solving timestep 29/45: 2898 Seconds         -> 3024 Seconds\n",
       "Solving timestep 30/45: 3024 Seconds         -> 3150 Seconds\n",
       "Solving timestep 31/45: 3150 Seconds         -> 3276 Seconds\n",
       "Solving timestep 32/45: 3276 Seconds         -> 3402 Seconds\n",
       "Solving timestep 33/45: 3402 Seconds         -> 3528 Seconds\n",
       "Solving timestep 34/45: 3528 Seconds         -> 1 Hour, 54 Seconds\n",
       "*** Simulation complete. Solved 34 control steps in 6 Seconds, 165 Milliseconds (termination triggered by stopFunction)  ***"
      ]
     },
     "metadata": {},
     "execution_count":  4,
     "output_type": "execute_result"
    }
   ]
  },
  {
   "cell_type": "markdown",
   "metadata": {},
   "source": [
    "\n",
    "retrieve the states from the simulation result\n",
    ""
   ]
  },
  {
   "cell_type": "code",
   "execution_count": 5,
   "metadata": {},
   "source": [
    "states = output.states;\n",
    "\n",
    "% extract the time, voltage, and current quantities\n",
    "time = cellfun(@(state) state.time, states);\n",
    "voltage = cellfun(@(state) state.('Control').E, states);\n",
    "current = cellfun(@(state) state.('Control').I, states);\n",
    "\n",
    "% calculate the capacity\n",
    "capacity = time .* current;\n",
    "\n",
    "% plot the discharge curve in the figure\n",
    "plot((capacity/(hour*milli)), voltage, '-', 'linewidth', 3)\n",
    "xlabel('Capacity  /  mA \\cdot h')\n",
    "ylabel('Voltage  /  V')\n",
    "legend('t_{NE} = 72 µm')"
   ],
   "outputs": [
    {
     "data": {
      "text/html": [
       "<center><img src=\"data:image/png;base64,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\" width=\"562\" alt=\"figure_0.png\"></center>"
      ]
     },
     "metadata": {},
     "execution_count":  5,
     "output_type": "execute_result"
    }
   ]
  },
  {
   "cell_type": "markdown",
   "metadata": {},
   "source": [
    "## Setup and Run a Parameter Sweep\n",
    "\n",
    "Now we can setup another parameter sweep to explore the effects of reducing the thickness of the negative electrode coating. Let's try simuating the cell performance with coating thickness values of 16 µm, 32 µm, and 64 µm. As in the previous tutorial, we will first create a vector contianing the desired thickness values. Then we will use a for\\-loop to iterate through the thickness values, modify the value in the jsonstruct, and run the simulation. We will then plot the results together for comparison.\n",
    ""
   ]
  },
  {
   "cell_type": "code",
   "execution_count": 6,
   "metadata": {},
   "source": [
    "% create a vector of diffent thickness values\n",
    "thickness = [16, 32, 64].*micro;\n",
    "\n",
    "% instantiate and empty cell array to store the outputs of the simulations\n",
    "output = cell(size(thickness));\n",
    "\n",
    "% instantiate an empty figure\n",
    "figure()\n",
    "\n",
    "% use a for-loop to iterate through the vector of c-rates\n",
    "for i = 1 : numel(thickness)\n",
    "    % modify the value for the c-rate in the control definition and update\n",
    "    % the total duration of the simulation accordingly\n",
    "    jsonstruct.NegativeElectrode.Coating.thickness = thickness(i);\n",
    "\n",
    "    % run the simulation and store the results in the output cell array\n",
    "    output{i} = runBatteryJson(jsonstruct);\n",
    "\n",
    "    % retrieve the states from the simulation result\n",
    "    states = output{i}.states;\n",
    "\n",
    "    % extract the time and voltage quantities\n",
    "    time = cellfun(@(state) state.time, states);\n",
    "    voltage = cellfun(@(state) state.('Control').E, states);\n",
    "    current = cellfun(@(state) state.('Control').I, states);\n",
    "\n",
    "    % calculate the capacity\n",
    "    capacity = time .* current;\n",
    "\n",
    "    % plot the discharge curve in the figure\n",
    "    plot((capacity/(hour*milli)), voltage, '-', 'linewidth', 3)\n",
    "    hold on\n",
    "end"
   ],
   "outputs": [
    {
     "data": {
      "text/plain": [
       "Solving timestep 01/45:                      -> 3 Seconds, 937 Milliseconds\n",
       "Solving timestep 02/45: 3 Seconds, 937 Milliseconds -> 7 Seconds, 875 Milliseconds\n",
       "Solving timestep 03/45: 7 Seconds, 875 Milliseconds -> 15 Seconds, 750 Milliseconds\n",
       "Solving timestep 04/45: 15 Seconds, 750 Milliseconds -> 31 Seconds, 500 Milliseconds\n",
       "Solving timestep 05/45: 31 Seconds, 500 Milliseconds -> 63 Seconds\n",
       "Solving timestep 06/45: 63 Seconds           -> 126 Seconds\n",
       "Solving timestep 07/45: 126 Seconds          -> 252 Seconds\n",
       "Solving timestep 08/45: 252 Seconds          -> 378 Seconds\n",
       "Solving timestep 09/45: 378 Seconds          -> 504 Seconds\n",
       "Solving timestep 10/45: 504 Seconds          -> 630 Seconds\n",
       "Solving timestep 11/45: 630 Seconds          -> 756 Seconds\n",
       "Solving timestep 12/45: 756 Seconds          -> 882 Seconds\n",
       "Solving timestep 13/45: 882 Seconds          -> 1008 Seconds\n",
       "Solving timestep 14/45: 1008 Seconds         -> 1134 Seconds\n",
       "Solving timestep 15/45: 1134 Seconds         -> 1260 Seconds\n",
       "Solving timestep 16/45: 1260 Seconds         -> 1386 Seconds\n",
       "Solving timestep 17/45: 1386 Seconds         -> 1512 Seconds\n",
       "Solving timestep 18/45: 1512 Seconds         -> 1638 Seconds\n",
       "Solving timestep 19/45: 1638 Seconds         -> 1764 Seconds\n",
       "Solving timestep 20/45: 1764 Seconds         -> 1890 Seconds\n",
       "Solving timestep 21/45: 1890 Seconds         -> 2016 Seconds\n",
       "Solving timestep 22/45: 2016 Seconds         -> 2142 Seconds\n",
       "Solving timestep 23/45: 2142 Seconds         -> 2268 Seconds\n",
       "Solving timestep 24/45: 2268 Seconds         -> 2394 Seconds\n",
       "Solving timestep 25/45: 2394 Seconds         -> 2520 Seconds\n",
       "Solving timestep 26/45: 2520 Seconds         -> 2646 Seconds\n",
       "Solving timestep 27/45: 2646 Seconds         -> 2772 Seconds\n",
       "Solving timestep 28/45: 2772 Seconds         -> 2898 Seconds\n",
       "Solving timestep 29/45: 2898 Seconds         -> 3024 Seconds\n",
       "Solving timestep 30/45: 3024 Seconds         -> 3150 Seconds\n",
       "Solving timestep 31/45: 3150 Seconds         -> 3276 Seconds\n",
       "Solving timestep 32/45: 3276 Seconds         -> 3402 Seconds\n",
       "Solving timestep 33/45: 3402 Seconds         -> 3528 Seconds\n",
       "Solving timestep 34/45: 3528 Seconds         -> 1 Hour, 54 Seconds\n",
       "Solving timestep 35/45: 1 Hour, 54 Seconds   -> 1 Hour, 180 Seconds\n",
       "Solving timestep 36/45: 1 Hour, 180 Seconds  -> 1 Hour, 306 Seconds\n",
       "Solving timestep 37/45: 1 Hour, 306 Seconds  -> 1 Hour, 432 Seconds\n",
       "Solving timestep 38/45: 1 Hour, 432 Seconds  -> 1 Hour, 558 Seconds\n",
       "Solving timestep 39/45: 1 Hour, 558 Seconds  -> 1 Hour, 684 Seconds\n",
       "*** Simulation complete. Solved 39 control steps in 5 Seconds, 781 Milliseconds (termination triggered by stopFunction)  ***\n",
       "Solving timestep 01/45:                      -> 3 Seconds, 937 Milliseconds\n",
       "Solving timestep 02/45: 3 Seconds, 937 Milliseconds -> 7 Seconds, 875 Milliseconds\n",
       "Solving timestep 03/45: 7 Seconds, 875 Milliseconds -> 15 Seconds, 750 Milliseconds\n",
       "Solving timestep 04/45: 15 Seconds, 750 Milliseconds -> 31 Seconds, 500 Milliseconds\n",
       "Solving timestep 05/45: 31 Seconds, 500 Milliseconds -> 63 Seconds\n",
       "Solving timestep 06/45: 63 Seconds           -> 126 Seconds\n",
       "Solving timestep 07/45: 126 Seconds          -> 252 Seconds\n",
       "Solving timestep 08/45: 252 Seconds          -> 378 Seconds\n",
       "Solving timestep 09/45: 378 Seconds          -> 504 Seconds\n",
       "Solving timestep 10/45: 504 Seconds          -> 630 Seconds\n",
       "Solving timestep 11/45: 630 Seconds          -> 756 Seconds\n",
       "Solving timestep 12/45: 756 Seconds          -> 882 Seconds\n",
       "Solving timestep 13/45: 882 Seconds          -> 1008 Seconds\n",
       "Solving timestep 14/45: 1008 Seconds         -> 1134 Seconds\n",
       "Solving timestep 15/45: 1134 Seconds         -> 1260 Seconds\n",
       "Solving timestep 16/45: 1260 Seconds         -> 1386 Seconds\n",
       "Solving timestep 17/45: 1386 Seconds         -> 1512 Seconds\n",
       "Solving timestep 18/45: 1512 Seconds         -> 1638 Seconds\n",
       "Solving timestep 19/45: 1638 Seconds         -> 1764 Seconds\n",
       "Solving timestep 20/45: 1764 Seconds         -> 1890 Seconds\n",
       "Solving timestep 21/45: 1890 Seconds         -> 2016 Seconds\n",
       "Solving timestep 22/45: 2016 Seconds         -> 2142 Seconds\n",
       "Solving timestep 23/45: 2142 Seconds         -> 2268 Seconds\n",
       "Solving timestep 24/45: 2268 Seconds         -> 2394 Seconds\n",
       "Solving timestep 25/45: 2394 Seconds         -> 2520 Seconds\n",
       "Solving timestep 26/45: 2520 Seconds         -> 2646 Seconds\n",
       "Solving timestep 27/45: 2646 Seconds         -> 2772 Seconds\n",
       "Solving timestep 28/45: 2772 Seconds         -> 2898 Seconds\n",
       "Solving timestep 29/45: 2898 Seconds         -> 3024 Seconds\n",
       "Solving timestep 30/45: 3024 Seconds         -> 3150 Seconds\n",
       "Solving timestep 31/45: 3150 Seconds         -> 3276 Seconds\n",
       "Solving timestep 32/45: 3276 Seconds         -> 3402 Seconds\n",
       "Solving timestep 33/45: 3402 Seconds         -> 3528 Seconds\n",
       "Solving timestep 34/45: 3528 Seconds         -> 1 Hour, 54 Seconds\n",
       "Solving timestep 35/45: 1 Hour, 54 Seconds   -> 1 Hour, 180 Seconds\n",
       "Solving timestep 36/45: 1 Hour, 180 Seconds  -> 1 Hour, 306 Seconds\n",
       "Solving timestep 37/45: 1 Hour, 306 Seconds  -> 1 Hour, 432 Seconds\n",
       "Solving timestep 38/45: 1 Hour, 432 Seconds  -> 1 Hour, 558 Seconds\n",
       "Solving timestep 39/45: 1 Hour, 558 Seconds  -> 1 Hour, 684 Seconds\n",
       "*** Simulation complete. Solved 39 control steps in 6 Seconds, 388 Milliseconds (termination triggered by stopFunction)  ***\n",
       "Solving timestep 01/45:                      -> 3 Seconds, 937 Milliseconds\n",
       "Solving timestep 02/45: 3 Seconds, 937 Milliseconds -> 7 Seconds, 875 Milliseconds\n",
       "Solving timestep 03/45: 7 Seconds, 875 Milliseconds -> 15 Seconds, 750 Milliseconds\n",
       "Solving timestep 04/45: 15 Seconds, 750 Milliseconds -> 31 Seconds, 500 Milliseconds\n",
       "Solving timestep 05/45: 31 Seconds, 500 Milliseconds -> 63 Seconds\n",
       "Solving timestep 06/45: 63 Seconds           -> 126 Seconds\n",
       "Solving timestep 07/45: 126 Seconds          -> 252 Seconds\n",
       "Solving timestep 08/45: 252 Seconds          -> 378 Seconds\n",
       "Solving timestep 09/45: 378 Seconds          -> 504 Seconds\n",
       "Solving timestep 10/45: 504 Seconds          -> 630 Seconds\n",
       "Solving timestep 11/45: 630 Seconds          -> 756 Seconds\n",
       "Solving timestep 12/45: 756 Seconds          -> 882 Seconds\n",
       "Solving timestep 13/45: 882 Seconds          -> 1008 Seconds\n",
       "Solving timestep 14/45: 1008 Seconds         -> 1134 Seconds\n",
       "Solving timestep 15/45: 1134 Seconds         -> 1260 Seconds\n",
       "Solving timestep 16/45: 1260 Seconds         -> 1386 Seconds\n",
       "Solving timestep 17/45: 1386 Seconds         -> 1512 Seconds\n",
       "Solving timestep 18/45: 1512 Seconds         -> 1638 Seconds\n",
       "Solving timestep 19/45: 1638 Seconds         -> 1764 Seconds\n",
       "Solving timestep 20/45: 1764 Seconds         -> 1890 Seconds\n",
       "Solving timestep 21/45: 1890 Seconds         -> 2016 Seconds\n",
       "Solving timestep 22/45: 2016 Seconds         -> 2142 Seconds\n",
       "Solving timestep 23/45: 2142 Seconds         -> 2268 Seconds\n",
       "Solving timestep 24/45: 2268 Seconds         -> 2394 Seconds\n",
       "Solving timestep 25/45: 2394 Seconds         -> 2520 Seconds\n",
       "Solving timestep 26/45: 2520 Seconds         -> 2646 Seconds\n",
       "Solving timestep 27/45: 2646 Seconds         -> 2772 Seconds\n",
       "Solving timestep 28/45: 2772 Seconds         -> 2898 Seconds\n",
       "Solving timestep 29/45: 2898 Seconds         -> 3024 Seconds\n",
       "Solving timestep 30/45: 3024 Seconds         -> 3150 Seconds\n",
       "Solving timestep 31/45: 3150 Seconds         -> 3276 Seconds\n",
       "Solving timestep 32/45: 3276 Seconds         -> 3402 Seconds\n",
       "Solving timestep 33/45: 3402 Seconds         -> 3528 Seconds\n",
       "Solving timestep 34/45: 3528 Seconds         -> 1 Hour, 54 Seconds\n",
       "*** Simulation complete. Solved 34 control steps in 6 Seconds, 741 Milliseconds (termination triggered by stopFunction)  ***"
      ]
     },
     "metadata": {},
     "execution_count":  6,
     "output_type": "execute_result"
    }
   ]
  },
  {
   "cell_type": "code",
   "execution_count": 7,
   "metadata": {},
   "source": [
    "hold off\n",
    "xlabel('Capacity  /  mA \\cdot h')\n",
    "ylabel('Voltage  /  V')\n",
    "legend('t_{NE} = 16 µm', 't_{NE} = 32 µm', 't_{NE} = 64 µm')"
   ],
   "outputs": [
    {
     "data": {
      "text/html": [
       "<center><img src=\"data:image/png;base64,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\" width=\"562\" alt=\"figure_1.png\"></center>"
      ]
     },
     "metadata": {},
     "execution_count":  7,
     "output_type": "execute_result"
    }
   ]
  },
  {
   "cell_type": "markdown",
   "metadata": {},
   "source": [
    "\n",
    "The results of this parameter sweep show that reducing the thickness of the negative electrode to 32 µm and 16 µm reduces its capacity such that it becomes the limiting factor in the overall capacity of the cell. Note that in real Li\\-ion batteries, the capacity of the negative electrode is usually oversized with respect to the capacity of the positive electrode to avoid dangerous lithium plating.\n",
    "\n",
    "## Summary\n",
    "\n",
    "In this tutorial, we explored how to modify structural parameters in BattMo. We first learned that structural properties of the electrodes are defined in the structure (e.g. NegativeElectrode.Coating). From there, it is possible to change individual parameter values and simulate the effects on the cell discharge. We then reviewed how to setup a parameter sweep and explored how changing the thickness of the negative electrode coating affects the overall capacity of the cell.\n",
    "\n",
    ""
   ]
  }
 ],
 "metadata": {
  "kernelspec": {
   "display_name": "MATLAB (matlabkernel)",
   "language": "matlab",
   "name": "matlab"
  },
  "language_info": {
   "file_extension": ".m",
   "mimetype": "text/matlab",
   "name": "matlab",
   "nbconvert_exporter": "matlab",
   "pygments_lexer": "matlab",
   "version": "24.2.0.2863752"
  }
 },
 "nbformat": 4,
 "nbformat_minor": 4
}