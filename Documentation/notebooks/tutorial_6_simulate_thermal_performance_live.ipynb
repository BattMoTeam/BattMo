{
 "cells": [
  {
   "cell_type": "markdown",
   "metadata": {},
   "source": [
    "\n",
    "# <span style=\"color:rgb(213,80,0)\">Tutorial 6 - Simulate Thermal Performance</span>\n",
    "## Introduction\n",
    "\n",
    "In this tutorial, we will use a P2D model to simulate the thermal performance of a battery cell. After completing this tutorial, you should have a working knowledge of:\n",
    "\n",
    "-  Basics of how material properties are defined in BattMo\n",
    "\n",
    "We'll use the same model from Tutorial 1.\n",
    ""
   ]
  },
  {
   "cell_type": "code",
   "execution_count": 1,
   "metadata": {},
   "source": [
    "jsonstruct = parseBattmoJson('Examples/jsondatafiles/sample_input.json');"
   ],
   "outputs": []
  },
  {
   "cell_type": "markdown",
   "metadata": {},
   "source": [
    "\n",
    "Parameters are defined in the JSON parameter file and parsed into the MATLAB structure. Once the JSON file has been read into MATLAB as a jsonstruct, its properties can be modified programmatically.\n",
    "\n",
    "## Explore the Material Parameters\n",
    "\n",
    "Let's begin by exploring the active material of the positive electrode coating with the following command:\n",
    ""
   ]
  },
  {
   "cell_type": "code",
   "execution_count": 2,
   "metadata": {},
   "source": [
    "disp(jsonstruct.PositiveElectrode.Coating.ActiveMaterial)"
   ],
   "outputs": []
  },
  {
   "cell_type": "markdown",
   "metadata": {},
   "source": [
    "\n",
    "We can see that a variety of parameters are defined that determine the physicochemical properties of the material. Many of the parameters that describe the electrochemical reactions that take place at the active material - electrolyte interface are contained in the Interface structure, which we can explore with the command:\n",
    ""
   ]
  },
  {
   "cell_type": "code",
   "execution_count": 3,
   "metadata": {},
   "source": [
    "disp(jsonstruct.PositiveElectrode.Coating.ActiveMaterial.Interface)"
   ],
   "outputs": []
  },
  {
   "cell_type": "markdown",
   "metadata": {},
   "source": [
    "\n",
    "Furthermore, it is well known that the diffusion of lithium in the active materials can be a limiting factor in Li-ion battery performance. The diffusion model used in this simulation can be explored with the following command:\n",
    ""
   ]
  },
  {
   "cell_type": "code",
   "execution_count": 4,
   "metadata": {},
   "source": [
    "disp(jsonstruct.PositiveElectrode.Coating.ActiveMaterial.SolidDiffusion)"
   ],
   "outputs": []
  },
  {
   "cell_type": "markdown",
   "metadata": {},
   "source": [
    "\n",
    "We can see there that the solid diffusion model includes a reference diffusion coefficient, activation energy of diffusion, and the effective particle radius.\n",
    "\n",
    "## Make a Simple Change\n",
    "\n",
    "Let's make a simple change to the positive electrode active material properties in our model and see how it affects the results. Let's compare how c\n",
    ""
   ]
  },
  {
   "cell_type": "code",
   "execution_count": 5,
   "metadata": {},
   "source": [
    "% create a vector of diffent thickness values\n",
    "radius = [1, 5, 10].*1e-6;\n",
    "\n",
    "% instantiate and empty cell array to store the outputs of the simulations\n",
    "output = cell(size(radius));\n",
    "\n",
    "% instantiate an empty figure\n",
    "figure()\n",
    "\n",
    "% use a for-loop to iterate through the vector of c-rates\n",
    "for i = 1 : numel(radius)\n",
    "    % modify the value for the c-rate in the control definition and update\n",
    "    % the total duration of the simulation accordingly\n",
    "    jsonstruct.PositiveElectrode.Coating.ActiveMaterial.SolidDiffusion.particleRadius = radius(i);\n",
    "\n",
    "    % run the simulation and store the results in the output cell array\n",
    "    output{i} = runBatteryJson(jsonstruct);\n",
    "\n",
    "    % retrieve the states from the simulation result\n",
    "    states = output{i}.states;\n",
    "\n",
    "    % extract the time and voltage quantities\n",
    "    time = cellfun(@(state) state.time, states);\n",
    "    voltage = cellfun(@(state) state.('Control').E, states);\n",
    "    current = cellfun(@(state) state.('Control').I, states);\n",
    "\n",
    "    % calculate the capacity\n",
    "    capacity = time .* current;\n",
    "\n",
    "    % plot the discharge curve in the figure\n",
    "    plot((capacity/(milli*hour)), voltage, '-', 'linewidth', 3)\n",
    "    hold on\n",
    "end\n",
    "hold off\n",
    "xlabel('Capacity  /  mA \\cdot h')\n",
    "ylabel('Cell Voltage  /  V')\n",
    "legend('r = 1 µm', 'r = 5 µm', 'r = 10 µm')"
   ],
   "outputs": []
  },
  {
   "cell_type": "markdown",
   "metadata": {},
   "source": [
    "## Swap Active Materials\n",
    "\n",
    "Now let's try to replace the active material with a different material from the BattMo library. In this example, we will replace the NMC material with LFP. First, let's re-load our baseline example parameter set to get rid of the changes from the previous sections.\n",
    ""
   ]
  },
  {
   "cell_type": "code",
   "execution_count": 6,
   "metadata": {},
   "source": [
    "clear\n",
    "jsonstruct = parseBattmoJson('Examples/jsondatafiles/sample_input.json');"
   ],
   "outputs": []
  },
  {
   "cell_type": "markdown",
   "metadata": {},
   "source": [
    "\n",
    "Now we load and parse the LFP material parameters from the **BattMo** library and move it to the right place in the model hierarchy:\n",
    ""
   ]
  },
  {
   "cell_type": "code",
   "execution_count": 7,
   "metadata": {},
   "source": [
    "lfp = parseBattmoJson('ParameterData/MaterialProperties/LFP/LFP.json');\n",
    "jsonstruct_lfp.PositiveElectrode.Coating.ActiveMaterial.Interface = lfp;"
   ],
   "outputs": []
  },
  {
   "cell_type": "markdown",
   "metadata": {},
   "source": [
    "\n",
    "To merge new parameter data into our existing model, we can use the **BattMo** function <samp>mergeJsonStructs</samp>.\n",
    ""
   ]
  },
  {
   "cell_type": "code",
   "execution_count": 8,
   "metadata": {},
   "source": [
    "jsonstruct = mergeJsonStructs({jsonstruct_lfp, ...\n",
    "                              jsonstruct});"
   ],
   "outputs": []
  },
  {
   "cell_type": "markdown",
   "metadata": {},
   "source": [
    "\n",
    "We need to be sure that the parameters are consistent across the hierarchy:\n",
    ""
   ]
  },
  {
   "cell_type": "code",
   "execution_count": 9,
   "metadata": {},
   "source": [
    "jsonstruct.PositiveElectrode.Coating.ActiveMaterial.density = jsonstruct.PositiveElectrode.Coating.ActiveMaterial.Interface.density;\n",
    "jsonstruct.PositiveElectrode.Coating.effectiveDensity = 900;"
   ],
   "outputs": []
  },
  {
   "cell_type": "markdown",
   "metadata": {},
   "source": [
    "\n",
    "And now, we can run the simulation and plot the discharge curve:\n",
    ""
   ]
  },
  {
   "cell_type": "code",
   "execution_count": 10,
   "metadata": {},
   "source": [
    "% run the simulation\n",
    "output = runBatteryJson(jsonstruct);\n",
    "% get the states\n",
    "states = output.states;\n",
    "\n",
    "% extract the time and voltage quantities\n",
    "time = cellfun(@(state) state.time, states);\n",
    "voltage = cellfun(@(state) state.('Control').E, states);\n",
    "current = cellfun(@(state) state.('Control').I, states);\n",
    "\n",
    "% calculate the capacity\n",
    "capacity = time .* current;\n",
    "\n",
    "% plot the discharge curve in the figure\n",
    "plot((capacity/(milli*hour)), voltage, '-', 'linewidth', 3)\n",
    "xlabel('Capacity  /  mA \\cdot h')\n",
    "ylabel('Cell Voltage  /  V')"
   ],
   "outputs": []
}
,
  {
   "cell_type": "markdown",
   "metadata": {},
   "source": [
    "## Summary\n",
    "\n",
    "In this tutorial, we explored how to modify material parameters in BattMo.\n",
    "\n",
    ""
   ]
  }
 ],
 "metadata": {
  "kernelspec": {
   "display_name": "MATLAB (matlabkernel)",
   "language": "matlab",
   "name": "matlab"
  },
  "language_info": {
   "file_extension": ".m",
   "mimetype": "text/matlab",
   "name": "matlab",
   "nbconvert_exporter": "matlab",
   "pygments_lexer": "matlab",
   "version": "23.2.0.2428915"
  }
 },
 "nbformat": 4,
 "nbformat_minor": 4
}