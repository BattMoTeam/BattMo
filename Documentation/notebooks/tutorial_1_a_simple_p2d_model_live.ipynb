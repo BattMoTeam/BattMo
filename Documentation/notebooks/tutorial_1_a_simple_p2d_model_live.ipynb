{
  "cells": [
    {
      "cell_type": "markdown",
      "metadata": {},
      "source": [
        "\n",
        "# <span style=\"color:rgb(213,80,0)\">Tutorial 1 - Your First BattMo Model</span>\n",
        "## Introduction\n",
        "\n",
        "Let’s make your first **BattMo** model! \n",
        "\n",
        "\n",
        "In this tutorial, we will build, run, and visualize a simple pseudo-two-dimensional (P2D) simulation for a Li-ion battery cell. We will first introduce how **BattMo** handles model parameters, then run the simulation, dashboard the results, and explore the details of the simulation output.\n",
        "\n",
        "## Define Parameters\n",
        "\n",
        "**BattMo** uses JSON to manage parameters. This allows you to easily save, document, and share complete parameter sets from specific simulations. We have used long and explicit key names for good readability. If you are new to JSON, you can learn more about it [here](https://www.w3schools.com/js/js_json_intro.asp). Details on the BattMo specification are available in the [JSON input specification](http://json.html/#json-input-specification).\n",
        "\n",
        "\n",
        "For this example, we provide a sample JSON file [sample_input.json](https://github.com/BattMoTeam/BattMo/blob/dev/Examples/jsondatafiles/sample_input.json) that describes a simple NMC-Graphite cell.\n",
        "\n",
        "\n",
        "We load and parse the JSON input file into **BattMo** using the command:\n",
        ""
      ]
    },
    {
      "cell_type": "code",
      "execution_count": 1,
      "metadata": {},
      "source": [
        "jsonstruct = parseBattmoJson('Examples/jsondatafiles/sample_input.json');"
      ],
      "outputs": []
    },
    {
      "cell_type": "markdown",
      "metadata": {},
      "source": [
        "\n",
        "This transforms the parameter data as a [MATLAB structure](https://se.mathworks.com/help/matlab/structures.html) <samp>jsonstruct</samp> that is used to setup the simulation. We can explore the structure within the MATLAB Command Window by navigating the different levels of the structure.\n",
        "\n",
        "\n",
        "For example, if we want to know the thickness of the negative electrode coating, we can give the command:\n",
        ""
      ]
    },
    {
      "cell_type": "code",
      "execution_count": 2,
      "metadata": {},
      "source": [
        "disp(jsonstruct.NegativeElectrode.Coating.thickness)"
      ],
      "outputs": [
        {
          "data": {
            "text/plain": [
              "   6.4000e-05"
            ]
          },
          "metadata": {},
          "execution_count": 2,
          "output_type": "execute_result"
        }
      ]
    },
    {
      "cell_type": "markdown",
      "metadata": {},
      "source": [
        "\n",
        "Unless otherwise specified, BattMo uses [SI base units](https://www.nist.gov/si-redefinition/definitions-si-base-units) for physical quantities.\n",
        "\n",
        "## Run Simulation\n",
        "\n",
        "We can run the simulation with the command:\n",
        ""
      ]
    },
    {
      "cell_type": "code",
      "execution_count": 3,
      "metadata": {},
      "source": [
        "output = runBatteryJson(jsonstruct);"
      ],
      "outputs": [
        {
          "data": {
            "text/plain": [
              "Solving timestep 01/45:                      -> 3 Seconds, 937 Milliseconds\n",
              "Solving timestep 02/45: 3 Seconds, 937 Milliseconds -> 7 Seconds, 875 Milliseconds\n",
              "Solving timestep 03/45: 7 Seconds, 875 Milliseconds -> 15 Seconds, 750 Milliseconds\n",
              "Solving timestep 04/45: 15 Seconds, 750 Milliseconds -> 31 Seconds, 500 Milliseconds\n",
              "Solving timestep 05/45: 31 Seconds, 500 Milliseconds -> 63 Seconds\n",
              "Solving timestep 06/45: 63 Seconds           -> 126 Seconds\n",
              "Solving timestep 07/45: 126 Seconds          -> 252 Seconds\n",
              "Solving timestep 08/45: 252 Seconds          -> 378 Seconds\n",
              "Solving timestep 09/45: 378 Seconds          -> 504 Seconds\n",
              "Solving timestep 10/45: 504 Seconds          -> 630 Seconds\n",
              "Solving timestep 11/45: 630 Seconds          -> 756 Seconds\n",
              "Solving timestep 12/45: 756 Seconds          -> 882 Seconds\n",
              "Solving timestep 13/45: 882 Seconds          -> 1008 Seconds\n",
              "Solving timestep 14/45: 1008 Seconds         -> 1134 Seconds\n",
              "Solving timestep 15/45: 1134 Seconds         -> 1260 Seconds\n",
              "Solving timestep 16/45: 1260 Seconds         -> 1386 Seconds\n",
              "Solving timestep 17/45: 1386 Seconds         -> 1512 Seconds\n",
              "Solving timestep 18/45: 1512 Seconds         -> 1638 Seconds\n",
              "Solving timestep 19/45: 1638 Seconds         -> 1764 Seconds\n",
              "Solving timestep 20/45: 1764 Seconds         -> 1890 Seconds\n",
              "Solving timestep 21/45: 1890 Seconds         -> 2016 Seconds\n",
              "Solving timestep 22/45: 2016 Seconds         -> 2142 Seconds\n",
              "Solving timestep 23/45: 2142 Seconds         -> 2268 Seconds\n",
              "Solving timestep 24/45: 2268 Seconds         -> 2394 Seconds\n",
              "Solving timestep 25/45: 2394 Seconds         -> 2520 Seconds\n",
              "Solving timestep 26/45: 2520 Seconds         -> 2646 Seconds\n",
              "Solving timestep 27/45: 2646 Seconds         -> 2772 Seconds\n",
              "Solving timestep 28/45: 2772 Seconds         -> 2898 Seconds\n",
              "Solving timestep 29/45: 2898 Seconds         -> 3024 Seconds\n",
              "Solving timestep 30/45: 3024 Seconds         -> 3150 Seconds\n",
              "Solving timestep 31/45: 3150 Seconds         -> 3276 Seconds\n",
              "Solving timestep 32/45: 3276 Seconds         -> 3402 Seconds\n",
              "Solving timestep 33/45: 3402 Seconds         -> 3528 Seconds\n",
              "Solving timestep 34/45: 3528 Seconds         -> 1 Hour, 54 Seconds\n",
              "*** Simulation complete. Solved 34 control steps in 4 Seconds, 31 Milliseconds (termination triggered by stopFunction)  ***"
            ]
          },
          "metadata": {},
          "execution_count": 3,
          "output_type": "execute_result"
        }
      ]
    },
    {
      "cell_type": "markdown",
      "metadata": {},
      "source": [
        "## Show the Dashboard\n",
        "\n",
        "We can dashboard the main results using [plotDashboard](https://github.com/BattMoTeam/BattMo/blob/dev/Utilities/Visualization/plotDashboard.m). Here, for example at time step 10,\n",
        ""
      ]
    },
    {
      "cell_type": "code",
      "execution_count": 4,
      "metadata": {},
      "source": [
        "plotDashboard(output.model, output.states, 'step', 10);"
      ],
      "outputs": [
        {
          "data": {
            "text/html": [
              "<center><img src=\"tutorial_1_a_simple_p2d_model_live_media/figure_0.png\" width=\"1305\" alt=\"figure_0.png\"></center>"
            ]
          },
          "metadata": {},
          "execution_count": 4,
          "output_type": "execute_result"
        }
      ]
    },
    {
      "cell_type": "markdown",
      "metadata": {},
      "source": [
        "\n",
        "The left 3 columns of the dashboard shows the profiles for the main state quantities (concentration and electric potential) in the negative electrode, electrolyte, and positive electrode. The rightmost column shows the calculated cell current and voltage. In the following subsections, we will explore how to access and plot this data from the simulation output.\n",
        "\n",
        "## Explore the Output\n",
        "\n",
        "The <samp>output</samp> structure returns among other thing the model and the states.\n",
        ""
      ]
    },
    {
      "cell_type": "code",
      "execution_count": 5,
      "metadata": {},
      "source": [
        "disp(output)"
      ],
      "outputs": [
        {
          "data": {
            "text/plain": [
              "             model: [1x1 Battery]\n",
              "          paramobj: [1x1 BatteryInputParams]\n",
              "          schedule: [1x1 struct]\n",
              "         initstate: [1x1 struct]\n",
              "              time: [57x1 double]\n",
              "                 E: [56x1 double]\n",
              "                 I: [56x1 double]\n",
              "            states: {57x1 cell}\n",
              "            energy: [56x1 double]\n",
              "     energyDensity: [56x1 double]\n",
              "    specificEnergy: []"
            ]
          },
          "metadata": {},
          "execution_count": 5,
          "output_type": "execute_result"
        }
      ]
    },
    {
      "cell_type": "markdown",
      "metadata": {},
      "source": [
        "\n",
        "The <samp>model</samp> contains information about the setup of the model and initial conditions, while <samp>states</samp> contains the results of the simulation at each timestep. Plotting the simulation results requires information about the grid (i.e. what is the position where the quantity is calculated?) and the state (i.e. what is the value of the quantity in that position at a given time?).\n",
        "\n",
        "## Explore the Grid\n",
        "\n",
        "The grid (or mesh) is one of the most used properties of the model, which can be accessed with the command:\n",
        ""
      ]
    },
    {
      "cell_type": "code",
      "execution_count": 6,
      "metadata": {},
      "source": [
        "disp(output.model.G)"
      ],
      "outputs": [
        {
          "data": {
            "text/plain": [
              "       cells: [1x1 struct]\n",
              "       faces: [1x1 struct]\n",
              "       nodes: [1x1 struct]\n",
              "    cartDims: 30\n",
              "        type: {'tensorGrid'  'computeGeometry'}\n",
              "     griddim: 1"
            ]
          },
          "metadata": {},
          "execution_count": 6,
          "output_type": "execute_result"
        }
      ]
    },
    {
      "cell_type": "markdown",
      "metadata": {},
      "source": [
        "\n",
        "We can see that the grid is stored as a structure with information about the cells, faces, nodes, etc. The values of the state quantities (e.g. concentration and electric potential) are calculated at the centroids of the cells. To plot the positions of the centroids, we can use the following commands:\n",
        ""
      ]
    },
    {
      "cell_type": "code",
      "execution_count": 7,
      "metadata": {},
      "source": [
        "% get the centroid locations for the full grid\n",
        "x = output.model.G.cells.centroids;\n",
        "\n",
        "% plot them in a figure\n",
        "figure();\n",
        "grid_axes = axes();\n",
        "plot(grid_axes, x, zeros(size(x)), '+', 'LineWidth', 2)\n",
        "\n",
        "% remove the y-axis ticks\n",
        "yticks([]);\n",
        "\n",
        "% add plot annotations\n",
        "title('Grid Centroids');\n",
        "xlabel('Position  /  m');"
      ],
      "outputs": [
        {
          "data": {
            "text/html": [
              "<center><img src=\"tutorial_1_a_simple_p2d_model_live_media/figure_1.png\" width=\"1054\" alt=\"figure_1.png\"></center>"
            ]
          },
          "metadata": {},
          "execution_count": 7,
          "output_type": "execute_result"
        }
      ]
    },
    {
      "cell_type": "markdown",
      "metadata": {},
      "source": [
        "\n",
        "This shows the overall grid that is used for the model. However, **BattMo** models use a modular hierarchy where the overall cell model is composed of smaller submodels for electrodes, electrolyte, and current collectors. Each of these submodels has its own grid.\n",
        "\n",
        "\n",
        "For example, if we want to plot the grid associated with the different submodels in different colors, we can use the following commands:\n",
        ""
      ]
    },
    {
      "cell_type": "code",
      "execution_count": 8,
      "metadata": {},
      "source": [
        "% get the centroid locations for the negative electrode (x_ne), separator\n",
        "% (x_sep), and positive electrode (x_pe)\n",
        "x_ne = output.model.NegativeElectrode.G.cells.centroids;\n",
        "x_sep = output.model.Separator.G.cells.centroids;\n",
        "x_pe = output.model.PositiveElectrode.G.cells.centroids;\n",
        "\n",
        "% plot them together on one figure\n",
        "figure()\n",
        "plot(x_ne, zeros(size(x_ne)), '+', 'LineWidth', 2)\n",
        "hold on\n",
        "plot(x_sep, zeros(size(x_sep)), '+k', 'LineWidth', 2)\n",
        "plot(x_pe, zeros(size(x_pe)), '+r', 'LineWidth', 2)\n",
        "\n",
        "% remove the y-axis tick marks\n",
        "yticks([]);\n",
        "\n",
        "% add plot annotations\n",
        "title('Grid Centroids by Component')\n",
        "xlabel('Position  /  m')\n",
        "legend('Negative Electrode', 'Separator', 'Positive Electrode')"
      ],
      "outputs": [
        {
          "data": {
            "text/html": [
              "<center><img src=\"tutorial_1_a_simple_p2d_model_live_media/figure_2.png\" width=\"1054\" alt=\"figure_2.png\"></center>"
            ]
          },
          "metadata": {},
          "execution_count": 8,
          "output_type": "execute_result"
        }
      ]
    },
    {
      "cell_type": "markdown",
      "metadata": {},
      "source": [
        "\n",
        "If you would like more information about the **BattMo** model hierarchy, please see [BattMo Model Architecture](http://architecture.html/#battmo-model-architecture).\n",
        "\n",
        "## Explore the States\n",
        "\n",
        "The values of the state quantities at each time step are stored in the <samp>states</samp> [cell array](https://se.mathworks.com/help/matlab/cell-arrays.html). Each entry in the array describes the state of the simulation at a given timestep.\n",
        "\n",
        "\n",
        "For example, we can look at the state of the simulation at timestep 10 (shown in the dashboard plot above) using the command:\n",
        ""
      ]
    },
    {
      "cell_type": "code",
      "execution_count": 9,
      "metadata": {},
      "source": [
        "timestep = 10;\n",
        "disp(output.states{timestep})"
      ],
      "outputs": [
        {
          "data": {
            "text/plain": [
              "          Electrolyte: [1x1 struct]\n",
              "    NegativeElectrode: [1x1 struct]\n",
              "    PositiveElectrode: [1x1 struct]\n",
              "              Control: [1x1 struct]\n",
              "                 time: 504\n",
              "         ThermalModel: [1x1 struct]"
            ]
          },
          "metadata": {},
          "execution_count": 9,
          "output_type": "execute_result"
        }
      ]
    },
    {
      "cell_type": "markdown",
      "metadata": {},
      "source": [
        "\n",
        "We see that the time of the state is 504 seconds and there are other structures containing the states of the electrodes and electrolyte. We can look into the state of the electrolyte using the command:\n",
        ""
      ]
    },
    {
      "cell_type": "code",
      "execution_count": 10,
      "metadata": {},
      "source": [
        "disp(output.states{timestep}.Electrolyte)"
      ],
      "outputs": [
        {
          "data": {
            "text/plain": [
              "      c: [30x1 double]\n",
              "    phi: [30x1 double]"
            ]
          },
          "metadata": {},
          "execution_count": 10,
          "output_type": "execute_result"
        }
      ]
    },
    {
      "cell_type": "markdown",
      "metadata": {},
      "source": [
        "\n",
        "which shows that there are two quantities there for concentration, c, and electric potential, phi.\n",
        "\n",
        "## Plot a Result\n",
        "\n",
        "Let’s plot the concentration in the electrolyte at timestep 10. We can plot the results using basic MATLAB commands this way:\n",
        ""
      ]
    },
    {
      "cell_type": "code",
      "execution_count": 11,
      "metadata": {},
      "source": [
        "% get the centroid locations and the values for the electrolyte\n",
        "% concentration at the given timestep\n",
        "x = output.model.G.cells.centroids;\n",
        "c = output.states{timestep}.Electrolyte.c;\n",
        "\n",
        "% plot the concentration values at the given grid centroid locations\n",
        "figure()\n",
        "plot(x, c, 'LineWidth', 3)\n",
        "\n",
        "% add plot annotations\n",
        "xlabel('Position  /  m')\n",
        "ylabel('Concentration  /  mol \\cdot m^{-3}')"
      ],
      "outputs": [
        {
          "data": {
            "text/html": [
              "<center><img src=\"tutorial_1_a_simple_p2d_model_live_media/figure_3.png\" width=\"562\" alt=\"figure_3.png\"></center>"
            ]
          },
          "metadata": {},
          "execution_count": 11,
          "output_type": "execute_result"
        }
      ]
    },
    {
      "cell_type": "markdown",
      "metadata": {},
      "source": [
        "\n",
        "**BattMo** also includes dedicated plotting functions that will come in handy when we start working with more complex systems (e.g. P4D grids). To demonstrate how it works, we can plot the electrolyte concentration profile at every timestep using the **BattMo** function <samp>plotCellData</samp>:\n",
        ""
      ]
    },
    {
      "cell_type": "code",
      "execution_count": 12,
      "metadata": {},
      "source": [
        "% create a figure and use hold on to show multiple lines in one figure\n",
        "figure();\n",
        "hold on"
      ],
      "outputs": [
        {
          "data": {
            "text/html": [
              "<center><img src=\"tutorial_1_a_simple_p2d_model_live_media/figure_4.png\" width=\"562\" alt=\"figure_4.png\"></center>"
            ]
          },
          "metadata": {},
          "execution_count": 12,
          "output_type": "execute_result"
        }
      ]
    },
    {
      "cell_type": "code",
      "execution_count": 13,
      "metadata": {},
      "source": [
        "\n",
        "% define a colormap for the line colors\n",
        "cm = cmocean('matter', length(output.states));\n",
        "\n",
        "% iterate through each of the output states and plot the calculated\n",
        "% electrolyte concentration at each timestep\n",
        "for timestep = 1:length(output.states)\n",
        "    plotCellData(output.model.G, output.states{timestep}.Electrolyte.c, 'LineWidth', 3, 'Color', cm(ind,:))\n",
        "end"
      ],
      "outputs": [
        {
          "data": {
            "text/plain": [
              "Unrecognized function or variable 'ind'."
            ]
          },
          "metadata": {},
          "execution_count": 13,
          "output_type": "execute_result"
        }
      ]
    },
    {
      "cell_type": "code",
      "execution_count": 14,
      "metadata": {},
      "source": [
        "\n",
        "% add plot annotations and turn hold off\n",
        "xlabel('Position  /  m')\n",
        "ylabel('Concentration  /  mol \\cdot m^{-3}')\n",
        "hold off"
      ],
      "outputs": []
    },
    {
      "cell_type": "markdown",
      "metadata": {},
      "source": [
        "\n",
        "You did it!  You have run an post-processed your first BattMo simulation! But there are still a lot of exciting features to discover. Let’s keep going and explore making chages to the model. \n",
        "\n",
        ""
      ]
    }
  ],
  "metadata": {
    "kernelspec": {
      "display_name": "MATLAB (matlabkernel)",
      "language": "matlab",
      "name": "matlab"
    },
    "language_info": {
      "file_extension": ".m",
      "mimetype": "text/matlab",
      "name": "matlab",
      "nbconvert_exporter": "matlab",
      "pygments_lexer": "matlab",
      "version": "23.2.0.2428915"
    }
  },
  "nbformat": 4,
  "nbformat_minor": 4
}
