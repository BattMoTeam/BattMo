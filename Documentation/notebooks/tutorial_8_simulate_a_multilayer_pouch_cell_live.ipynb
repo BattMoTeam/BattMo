{
 "cells": [
  {
   "cell_type": "markdown",
   "metadata": {},
   "source": [
    "\n",
    "# <span style=\"color:rgb(213,80,0)\">Tutorial 7 - Simulate a Multilayer Pouch Cell</span>\n",
    "## Introduction\n",
    "\n",
    "In this tutorial, we will use a P4D model to simulate the performance of a multi-layer pouch cell. After completing this tutorial, you should have a working knowledge of:\n",
    "\n",
    "-  Basics of how material properties are defined in BattMo\n",
    "\n",
    "We'll use the same model from Tutorial 1.\n",
    ""
   ]
  },
  {
   "cell_type": "code",
   "execution_count": 1,
   "metadata": {},
   "source": [
    "jsonstruct = parseBattmoJson('Examples/jsondatafiles/sample_input.json');"
   ],
   "outputs": []
}
,
  {
   "cell_type": "markdown",
   "metadata": {},
   "source": [
    "\n",
    "Parameters are defined in the JSON parameter file and parsed into the MATLAB structure. Once the JSON file has been read into MATLAB as a jsonstruct, its properties can be modified programmatically.\n",
    "\n",
    "## Summary\n",
    "\n",
    "In this tutorial, we explored how to simulate a multi-layer pouch cell in BattMo.\n",
    "\n",
    ""
   ]
  }
 ],
 "metadata": {
  "kernelspec": {
   "display_name": "MATLAB (matlabkernel)",
   "language": "matlab",
   "name": "matlab"
  },
  "language_info": {
   "file_extension": ".m",
   "mimetype": "text/matlab",
   "name": "matlab",
   "nbconvert_exporter": "matlab",
   "pygments_lexer": "matlab",
   "version": "23.2.0.2428915"
  }
 },
 "nbformat": 4,
 "nbformat_minor": 4
}