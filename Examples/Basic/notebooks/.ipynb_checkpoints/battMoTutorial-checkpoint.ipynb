{
 "cells": [
  {
   "cell_type": "markdown",
   "metadata": {},
   "source": [
    "\n",
    "# <span style=\"color:rgb(213,80,0)\">BattMo Tutorial</span>\n",
    "\n",
    "This tutorial explains how to setup and run a simulation in BattMo\n",
    ""
   ]
  },
  {
   "cell_type": "code",
   "execution_count": 1,
   "metadata": {},
   "source": [
    "% First clear variables stored in memory and close all figures\n",
    "clear;\n",
    "close all;\n",
    "\n",
    "% Set thicker line widths and larger font sizes\n",
    "set(0, 'defaultLineLineWidth', 3);\n",
    "set(0, 'defaultAxesFontSize', 16);\n",
    "set(0, 'defaultTextFontSize', 18);"
   ],
   "outputs": []
  },
  {
   "cell_type": "markdown",
   "metadata": {},
   "source": [
    "## Specifying the physical model\n",
    "\n",
    "In this tutorial we will simulate a lithium\\-ion battery consisting of a negative electrode, a positive electrode and an electrolyte. **BattMo** comes with some pre\\-defined models which can be loaded from JSON files. Here we will load the basic lithium\\-ion model JSON file which comes with Battmo. The function <samp>parseBattmoJson</samp> parses files and a file path can be given from the battmo root directory.\n",
    ""
   ]
  },
  {
   "cell_type": "code",
   "execution_count": 2,
   "metadata": {},
   "source": [
    "fname = fullfile('ParameterData','BatteryCellParameters',...\n",
    "                 'LithiumIonBatteryCell','lithium_ion_battery_nmc_graphite.json');\n",
    "jsonstruct = parseBattmoJson(fname);"
   ],
   "outputs": []
  },
  {
   "cell_type": "markdown",
   "metadata": {},
   "source": [
    "\n",
    "The parseBattmoJson function parses the JSON input and creates a matlab structure containing the same fields as the JSON input. This structure can be changed to setup the model in the way that we want.\n",
    "\n",
    "\n",
    "In this instance we will exclude temperature effects by setting use\\_thermal to false.\n",
    ""
   ]
  },
  {
   "cell_type": "code",
   "execution_count": 3,
   "metadata": {},
   "source": [
    "jsonstruct.use_thermal = false;"
   ],
   "outputs": []
  },
  {
   "cell_type": "markdown",
   "metadata": {},
   "source": [
    "\n",
    "We will also not use current collectors in this example:\n",
    ""
   ]
  },
  {
   "cell_type": "code",
   "execution_count": 4,
   "metadata": {},
   "source": [
    "jsonstruct.include_current_collectors = false;"
   ],
   "outputs": []
  },
  {
   "cell_type": "markdown",
   "metadata": {},
   "source": [
    "\n",
    "The structure created in the jsonstruct follows the same hierarchy as the fields in the JSON input file. These can be referenced by name in the jsonstruct. To make life easier for ourselves we define some shorthand names for various parts of the structure.\n",
    ""
   ]
  },
  {
   "cell_type": "code",
   "execution_count": 5,
   "metadata": {},
   "source": [
    "ne      = 'NegativeElectrode';\n",
    "pe      = 'PositiveElectrode';\n",
    "elyte   = 'Electrolyte';\n",
    "thermal = 'ThermalModel';\n",
    "co      = 'Coating';\n",
    "am      = 'ActiveMaterial';\n",
    "itf     = 'Interface';\n",
    "sd      = 'SolidDiffusion';\n",
    "ctrl    = 'Control';\n",
    "cc      = 'CurrentCollector';"
   ],
   "outputs": []
  },
  {
   "cell_type": "markdown",
   "metadata": {},
   "source": [
    "\n",
    "It is also possible to update the properties of this inputparams in a similar way to updating the jsonstruct. Here we set the discretisation level for the diffusion model.\n",
    ""
   ]
  },
  {
   "cell_type": "code",
   "execution_count": 6,
   "metadata": {},
   "source": [
    "jsonstruct.(ne).(co).(am).(sd).N = 5;\n",
    "jsonstruct.(pe).(co).(am).(sd).N = 5;"
   ],
   "outputs": []
  },
  {
   "cell_type": "markdown",
   "metadata": {},
   "source": [
    "\n",
    "We can also change how the battery is operated, for example setting the cut off voltage.\n",
    ""
   ]
  },
  {
   "cell_type": "code",
   "execution_count": 7,
   "metadata": {},
   "source": [
    "jsonstruct.(ctrl).lowerCutoffVoltage = 2.5;"
   ],
   "outputs": []
  },
  {
   "cell_type": "markdown",
   "metadata": {},
   "source": [
    "## Setting up the geometry\n",
    "\n",
    "Here, we setup the 1D computational grid that will be used for the simulation.\n",
    ""
   ]
  },
  {
   "cell_type": "code",
   "execution_count": 8,
   "metadata": {},
   "source": [
    "filename = fullfile('Examples', 'JsonDataFiles', 'geometry1d.json');\n",
    "jsonstruct_geometry = parseBattmoJson(filename);"
   ],
   "outputs": []
  },
  {
   "cell_type": "markdown",
   "metadata": {},
   "source": [
    "\n",
    "We can use the function <samp>flattenJsonStruct</samp> which flattens the structure so that we can visualize all the fields at once\n",
    ""
   ]
  },
  {
   "cell_type": "code",
   "execution_count": 9,
   "metadata": {},
   "source": [
    "flattenJsonStruct(jsonstruct_geometry);"
   ],
   "outputs": [
    {
     "data": {
      "text/plain": [
       "                     parameter name                     parameter value\n",
       "    ________________________________________________    _______________\n",
       "    {'Geometry.case'                               }    {'1D'        } \n",
       "    {'Geometry.faceArea'                           }    {[1.0000e-04]} \n",
       "    {'NegativeElectrode.Coating.thickness'         }    {[6.4000e-05]} \n",
       "    {'NegativeElectrode.Coating.N'                 }    {[        10]} \n",
       "    {'NegativeElectrode.CurrentCollector.thickness'}    {[1.0000e-05]} \n",
       "    {'NegativeElectrode.CurrentCollector.N'        }    {[         5]} \n",
       "    {'PositiveElectrode.Coating.thickness'         }    {[5.7000e-05]} \n",
       "    {'PositiveElectrode.Coating.N'                 }    {[        10]} \n",
       "    {'PositiveElectrode.CurrentCollector.thickness'}    {[1.0000e-05]} \n",
       "    {'PositiveElectrode.CurrentCollector.N'        }    {[         5]} \n",
       "    {'Separator.thickness'                         }    {[1.5000e-05]} \n",
       "    {'Separator.N'                                 }    {[        10]}"
      ]
     },
     "metadata": {},
     "execution_count":  9,
     "output_type": "execute_result"
    }
   ]
  },
  {
   "cell_type": "markdown",
   "metadata": {},
   "source": [
    "\n",
    "We can change the thickness of the coating of the negative electrode\n",
    ""
   ]
  },
  {
   "cell_type": "code",
   "execution_count": 10,
   "metadata": {},
   "source": [
    "jsonstruct_geometry.(ne).(co).thickness = 6e-05;"
   ],
   "outputs": []
  },
  {
   "cell_type": "markdown",
   "metadata": {},
   "source": [
    "\n",
    "We merge the jsonstuct that contains the geometrical property to the main one using the function <samp>mergeJsonStructs</samp>\n",
    ""
   ]
  },
  {
   "cell_type": "code",
   "execution_count": 11,
   "metadata": {},
   "source": [
    "jsonstruct = mergeJsonStructs({jsonstruct, jsonstruct_geometry});"
   ],
   "outputs": []
  },
  {
   "cell_type": "markdown",
   "metadata": {},
   "source": [
    "\n",
    "We can now visualise the whole input parameter set using <samp>flattenJsonStruct</samp>\n",
    ""
   ]
  },
  {
   "cell_type": "code",
   "execution_count": 12,
   "metadata": {},
   "source": [
    "flattenJsonStruct(jsonstruct);"
   ],
   "outputs": [
    {
     "data": {
      "text/plain": [
       "                                         parameter name                                                       parameter value              \n",
       "    _________________________________________________________________________________________    __________________________________________\n",
       "    {'G'                                                                                    }    {0x0 double                              }\n",
       "    {'SOC'                                                                                  }    {[                                0.9900]}\n",
       "    {'initT'                                                                                }    {[                              298.1500]}\n",
       "    {'use_thermal'                                                                          }    {[                                     0]}\n",
       "    {'include_current_collectors'                                                           }    {[                                     0]}\n",
       "    {'Control.controlPolicy'                                                                }    {'CCDischarge'                           }\n",
       "    {'Control.rampupTime'                                                                   }    {[                                0.1000]}\n",
       "    {'Control.DRate'                                                                        }    {[                                     1]}\n",
       "    {'Control.lowerCutoffVoltage'                                                           }    {[                                2.5000]}\n",
       "    {'Control.upperCutoffVoltage'                                                           }    {[                                4.1000]}\n",
       "    {'Control.dIdtLimit'                                                                    }    {[                                0.0100]}\n",
       "    {'Control.dEdtLimit'                                                                    }    {[                                0.0100]}\n",
       "    {'NegativeElectrode.Coating.effectiveDensity'                                           }    {[                                  1900]}\n",
       "    {'NegativeElectrode.Coating.bruggemanCoefficient'                                       }    {[                                1.5000]}\n",
       "    {'NegativeElectrode.Coating.ActiveMaterial.massFraction'                                }    {[                                0.9400]}\n",
       "    {'NegativeElectrode.Coating.ActiveMaterial.density'                                     }    {[                                  2240]}\n",
       "    {'NegativeElectrode.Coating.ActiveMaterial.specificHeatCapacity'                        }    {[                                   632]}\n",
       "    {'NegativeElectrode.Coating.ActiveMaterial.thermalConductivity'                         }    {[                                1.0400]}\n",
       "    {'NegativeElectrode.Coating.ActiveMaterial.electronicConductivity'                      }    {[                                   100]}\n",
       "    {'NegativeElectrode.Coating.ActiveMaterial.Interface.saturationConcentration'           }    {[                                 30555]}\n",
       "    {'NegativeElectrode.Coating.ActiveMaterial.Interface.volumetricSurfaceArea'             }    {[                                723600]}\n",
       "    {'NegativeElectrode.Coating.ActiveMaterial.Interface.numberOfElectronsTransferred'      }    {[                                     1]}\n",
       "    {'NegativeElectrode.Coating.ActiveMaterial.Interface.activationEnergyOfReaction'        }    {[                                  5000]}\n",
       "    {'NegativeElectrode.Coating.ActiveMaterial.Interface.reactionRateConstant'              }    {[                            5.0310e-11]}\n",
       "    {'NegativeElectrode.Coating.ActiveMaterial.Interface.guestStoichiometry100'             }    {[                                0.8855]}\n",
       "    {'NegativeElectrode.Coating.ActiveMaterial.Interface.guestStoichiometry0'               }    {[                                0.1429]}\n",
       "    {'NegativeElectrode.Coating.ActiveMaterial.Interface.chargeTransferCoefficient'         }    {[                                0.5000]}\n",
       "    {'NegativeElectrode.Coating.ActiveMaterial.Interface.openCircuitPotential.type'         }    {'function'                              }\n",
       "    {'NegativeElectrode.Coating.ActiveMaterial.Interface.openCircuitPotential.functionname' }    {'computeOCP_Graphite_Torchio'           }\n",
       "    {'NegativeElectrode.Coating.ActiveMaterial.Interface.openCircuitPotential.argumentlist' }    {1x1 cell                                }\n",
       "    {'NegativeElectrode.Coating.ActiveMaterial.diffusionModelType'                          }    {'full'                                  }\n",
       "    {'NegativeElectrode.Coating.ActiveMaterial.SolidDiffusion.activationEnergyOfDiffusion'  }    {[                                  5000]}\n",
       "    {'NegativeElectrode.Coating.ActiveMaterial.SolidDiffusion.referenceDiffusionCoefficient'}    {[                            3.9000e-14]}\n",
       "    {'NegativeElectrode.Coating.ActiveMaterial.SolidDiffusion.particleRadius'               }    {[                            1.0000e-06]}\n",
       "    {'NegativeElectrode.Coating.ActiveMaterial.SolidDiffusion.N'                            }    {[                                     5]}\n",
       "    {'NegativeElectrode.Coating.Binder.density'                                             }    {[                            1.1000e+03]}\n",
       "    {'NegativeElectrode.Coating.Binder.massFraction'                                        }    {[                                0.0300]}\n",
       "    {'NegativeElectrode.Coating.Binder.electronicConductivity'                              }    {[                                   100]}\n",
       "    {'NegativeElectrode.Coating.Binder.specificHeatCapacity'                                }    {[                                   632]}\n",
       "    {'NegativeElectrode.Coating.Binder.thermalConductivity'                                 }    {[                                1.0400]}\n",
       "    {'NegativeElectrode.Coating.ConductingAdditive.density'                                 }    {[                            1.9500e+03]}\n",
       "    {'NegativeElectrode.Coating.ConductingAdditive.massFraction'                            }    {[                                0.0300]}\n",
       "    {'NegativeElectrode.Coating.ConductingAdditive.electronicConductivity'                  }    {[                                   100]}\n",
       "    {'NegativeElectrode.Coating.ConductingAdditive.specificHeatCapacity'                    }    {[                                   632]}\n",
       "    {'NegativeElectrode.Coating.ConductingAdditive.thermalConductivity'                     }    {[                                1.0400]}\n",
       "    {'NegativeElectrode.Coating.thickness'                                                  }    {[                            6.0000e-05]}\n",
       "    {'NegativeElectrode.Coating.N'                                                          }    {[                                    10]}\n",
       "    {'NegativeElectrode.CurrentCollector.electronicConductivity'                            }    {[                              59600000]}\n",
       "    {'NegativeElectrode.CurrentCollector.thermalConductivity'                               }    {[                                   398]}\n",
       "    {'NegativeElectrode.CurrentCollector.specificHeatCapacity'                              }    {[                                   385]}\n",
       "    {'NegativeElectrode.CurrentCollector.density'                                           }    {[                                  8960]}\n",
       "    {'NegativeElectrode.CurrentCollector.thickness'                                         }    {[                            1.0000e-05]}\n",
       "    {'NegativeElectrode.CurrentCollector.N'                                                 }    {[                                     5]}\n",
       "    {'PositiveElectrode.Coating.effectiveDensity'                                           }    {[                                  3500]}\n",
       "    {'PositiveElectrode.Coating.bruggemanCoefficient'                                       }    {[                                1.5000]}\n",
       "    {'PositiveElectrode.Coating.ActiveMaterial.massFraction'                                }    {[                                0.9500]}\n",
       "    {'PositiveElectrode.Coating.ActiveMaterial.density'                                     }    {[                                  4650]}\n",
       "    {'PositiveElectrode.Coating.ActiveMaterial.specificHeatCapacity'                        }    {[                                   700]}\n",
       "    {'PositiveElectrode.Coating.ActiveMaterial.thermalConductivity'                         }    {[                                2.1000]}\n",
       "    {'PositiveElectrode.Coating.ActiveMaterial.electronicConductivity'                      }    {[                                   100]}\n",
       "    {'PositiveElectrode.Coating.ActiveMaterial.Interface.saturationConcentration'           }    {[                                 55554]}\n",
       "    {'PositiveElectrode.Coating.ActiveMaterial.Interface.volumetricSurfaceArea'             }    {[                                885000]}\n",
       "    {'PositiveElectrode.Coating.ActiveMaterial.Interface.density'                           }    {[                                  4650]}\n",
       "    {'PositiveElectrode.Coating.ActiveMaterial.Interface.numberOfElectronsTransferred'      }    {[                                     1]}\n",
       "    {'PositiveElectrode.Coating.ActiveMaterial.Interface.activationEnergyOfReaction'        }    {[                                  5000]}\n",
       "    {'PositiveElectrode.Coating.ActiveMaterial.Interface.reactionRateConstant'              }    {[                            2.3300e-11]}\n",
       "    {'PositiveElectrode.Coating.ActiveMaterial.Interface.guestStoichiometry100'             }    {[                                0.4955]}\n",
       "    {'PositiveElectrode.Coating.ActiveMaterial.Interface.guestStoichiometry0'               }    {[                                0.9917]}\n",
       "    {'PositiveElectrode.Coating.ActiveMaterial.Interface.chargeTransferCoefficient'         }    {[                                0.5000]}\n",
       "    {'PositiveElectrode.Coating.ActiveMaterial.Interface.openCircuitPotential.type'         }    {'function'                              }\n",
       "    {'PositiveElectrode.Coating.ActiveMaterial.Interface.openCircuitPotential.functionname' }    {'computeOCP_NMC111'                     }\n",
       "    {'PositiveElectrode.Coating.ActiveMaterial.Interface.openCircuitPotential.argumentlist' }    {1x1 cell                                }\n",
       "    {'PositiveElectrode.Coating.ActiveMaterial.diffusionModelType'                          }    {'full'                                  }\n",
       "    {'PositiveElectrode.Coating.ActiveMaterial.SolidDiffusion.activationEnergyOfDiffusion'  }    {[                                  5000]}\n",
       "    {'PositiveElectrode.Coating.ActiveMaterial.SolidDiffusion.referenceDiffusionCoefficient'}    {[                            1.0000e-14]}\n",
       "    {'PositiveElectrode.Coating.ActiveMaterial.SolidDiffusion.particleRadius'               }    {[                            1.0000e-06]}\n",
       "    {'PositiveElectrode.Coating.ActiveMaterial.SolidDiffusion.N'                            }    {[                                     5]}\n",
       "    {'PositiveElectrode.Coating.Binder.density'                                             }    {[                            1.7500e+03]}\n",
       "    {'PositiveElectrode.Coating.Binder.massFraction'                                        }    {[                                0.0250]}\n",
       "    {'PositiveElectrode.Coating.Binder.electronicConductivity'                              }    {[                                   100]}\n",
       "    {'PositiveElectrode.Coating.Binder.specificHeatCapacity'                                }    {[                                   700]}\n",
       "    {'PositiveElectrode.Coating.Binder.thermalConductivity'                                 }    {[                                2.1000]}\n",
       "    {'PositiveElectrode.Coating.ConductingAdditive.density'                                 }    {[                            1.8300e+03]}\n",
       "    {'PositiveElectrode.Coating.ConductingAdditive.massFraction'                            }    {[                                0.0250]}\n",
       "    {'PositiveElectrode.Coating.ConductingAdditive.electronicConductivity'                  }    {[                                   100]}\n",
       "    {'PositiveElectrode.Coating.ConductingAdditive.specificHeatCapacity'                    }    {[                                   700]}\n",
       "    {'PositiveElectrode.Coating.ConductingAdditive.thermalConductivity'                     }    {[                                2.1000]}\n",
       "    {'PositiveElectrode.Coating.thickness'                                                  }    {[                            5.7000e-05]}\n",
       "    {'PositiveElectrode.Coating.N'                                                          }    {[                                    10]}\n",
       "    {'PositiveElectrode.CurrentCollector.electronicConductivity'                            }    {[                              35500000]}\n",
       "    {'PositiveElectrode.CurrentCollector.thermalConductivity'                               }    {[                                   170]}\n",
       "    {'PositiveElectrode.CurrentCollector.specificHeatCapacity'                              }    {[                                   875]}\n",
       "    {'PositiveElectrode.CurrentCollector.density'                                           }    {[                                  2700]}\n",
       "    {'PositiveElectrode.CurrentCollector.thickness'                                         }    {[                            1.0000e-05]}\n",
       "    {'PositiveElectrode.CurrentCollector.N'                                                 }    {[                                     5]}\n",
       "    {'Electrolyte.specificHeatCapacity'                                                     }    {[                                  2055]}\n",
       "    {'Electrolyte.thermalConductivity'                                                      }    {[                                0.6000]}\n",
       "    {'Electrolyte.density'                                                                  }    {[                                  1200]}\n",
       "    {'Electrolyte.initialConcentration'                                                     }    {[                            1.0000e+03]}\n",
       "    {'Electrolyte.nominalEthyleneCarbonateConcentration'                                    }    {[                            1.0000e+03]}\n",
       "    {'Electrolyte.ionicConductivity.type'                                                   }    {'function'                              }\n",
       "    {'Electrolyte.ionicConductivity.functionname'                                           }    {'computeElectrolyteConductivity_default'}\n",
       "    {'Electrolyte.ionicConductivity.argumentlist'                                           }    {1x1 cell                                }\n",
       "    {'Electrolyte.diffusionCoefficient.type'                                                }    {'function'                              }\n",
       "    {'Electrolyte.diffusionCoefficient.functionname'                                        }    {'computeDiffusionCoefficient_default'   }\n",
       "    {'Electrolyte.diffusionCoefficient.argumentlist'                                        }    {1x1 cell                                }\n",
       "    {'Electrolyte.species.chargeNumber'                                                     }    {[                                     1]}\n",
       "    {'Electrolyte.species.transferenceNumber'                                               }    {[                                0.2594]}\n",
       "    {'Electrolyte.species.nominalConcentration'                                             }    {[                                  1000]}\n",
       "    {'Electrolyte.bruggemanCoefficient'                                                     }    {[                                1.5000]}\n",
       "    {'Separator.porosity'                                                                   }    {[                                0.5500]}\n",
       "    {'Separator.specificHeatCapacity'                                                       }    {[                                  1978]}\n",
       "    {'Separator.thermalConductivity'                                                        }    {[                                0.3340]}\n",
       "    {'Separator.density'                                                                    }    {[                                   946]}\n",
       "    {'Separator.bruggemanCoefficient'                                                       }    {[                                1.5000]}\n",
       "    {'Separator.thickness'                                                                  }    {[                            1.5000e-05]}\n",
       "    {'Separator.N'                                                                          }    {[                                    10]}\n",
       "    {'ThermalModel.externalHeatTransferCoefficient'                                         }    {[                                  1000]}\n",
       "    {'ThermalModel.externalTemperature'                                                     }    {[                              298.1500]}\n",
       "    {'Geometry.case'                                                                        }    {'1D'                                    }\n",
       "    {'Geometry.faceArea'                                                                    }    {[                            1.0000e-04]}"
      ]
     },
     "metadata": {},
     "execution_count":  12,
     "output_type": "execute_result"
    }
   ]
  },
  {
   "cell_type": "code",
   "execution_count": 13,
   "metadata": {},
   "source": [
    "\n",
    "return"
   ],
   "outputs": []
  },
  {
   "cell_type": "markdown",
   "metadata": {},
   "source": [
    "## Initialising the battery model object\n",
    "\n",
    "The battery model is initialized by sending inputparams to the Battery class constructor. see :battmo:`Battery`.\n",
    "\n",
    "\n",
    "In BattMo a battery model is actually a collection of submodels: Electrolyte, Negative Electrode, Positive Electrode, Thermal Model and Control Model. The battery class contains all of these submodels and various other parameters necessary to run the simulation.\n",
    ""
   ]
  },
  {
   "cell_type": "code",
   "execution_count": 14,
   "metadata": {},
   "source": [
    "model = Battery(inputparams);"
   ],
   "outputs": []
  },
  {
   "cell_type": "markdown",
   "metadata": {},
   "source": [
    "## Plotting the OCP curves against state of charge\n",
    "\n",
    "We can inspect the model object to find out which parameters are being used. For instance the information we need to plot the OCP curves for the positive and negative electrodes can be found in the interface structure of each electrode.\n",
    ""
   ]
  },
  {
   "cell_type": "code",
   "execution_count": 15,
   "metadata": {},
   "source": [
    "T = 298.15;\n",
    "eldes = {ne, pe};\n",
    "\n",
    "figure\n",
    "hold on\n",
    "\n",
    "for ielde = 1:numel(eldes)\n",
    "    el_itf = model.(eldes{ielde}).(co).(am).(itf);\n",
    "\n",
    "    theta100 = el_itf.guestStoichiometry100;\n",
    "    theta0   = el_itf.guestStoichiometry0;\n",
    "    cmax     = el_itf.saturationConcentration;\n",
    "\n",
    "    soc   = linspace(0, 1);\n",
    "    theta = soc*theta100 + (1 - soc)*theta0;\n",
    "    c     = theta.*cmax;\n",
    "    OCP   = el_itf.computeOCPFunc(c, T, cmax);\n",
    "\n",
    "    plot(soc, OCP)\n",
    "end\n",
    "\n",
    "xlabel('SOC  / -')\n",
    "ylabel('OCP  / V')\n",
    "title('OCP for both electrodes');\n",
    "ylim([0, 5.5])\n",
    "legend(eldes, 'location', 'nw')"
   ],
   "outputs": []
  },
  {
   "cell_type": "markdown",
   "metadata": {},
   "source": [
    "## Controlling the simulation\n",
    "\n",
    "The control model specifies how the battery is operated, i.e., how the simulation is controlled.\n",
    "\n",
    "\n",
    "The input parameters for the control have been given as part of the json structure :battmofile:`ParameterData/BatteryCellParameters/LithiumIonBatteryCell/lithium_ion_battery_nmc_graphite.json`. The total simulation time is setup for us, computed from the DRate value. We use the method :code:`setupScheduleStep` in :battmo:`ControlModel` to setup the :code:`step` structure.\n",
    ""
   ]
  },
  {
   "cell_type": "code",
   "execution_count": 16,
   "metadata": {},
   "source": [
    "step = model.Control.setupScheduleStep();"
   ],
   "outputs": []
  },
  {
   "cell_type": "markdown",
   "metadata": {},
   "source": [
    "\n",
    "We create a control structure containing the source function and and a stopping criteria. The control parameters have been given in the json file :battmofile:`ParameterData/BatteryCellParameters/LithiumIonBatteryCell/lithium_ion_battery_nmc_graphite.json`\n",
    "\n",
    "\n",
    "The :code:`setupScheduleControl` method contains the code to setup the control structure that is used in the schedule structure setup below.\n",
    ""
   ]
  },
  {
   "cell_type": "code",
   "execution_count": 17,
   "metadata": {},
   "source": [
    "control = model.Control.setupScheduleControl();"
   ],
   "outputs": []
  },
  {
   "cell_type": "markdown",
   "metadata": {},
   "source": [
    "\n",
    "Finally we collect the control and step structures together in a schedule struct which is the schedule which the simulation will follow:\n",
    ""
   ]
  },
  {
   "cell_type": "code",
   "execution_count": 18,
   "metadata": {},
   "source": [
    "schedule = struct('control', control, 'step', step);"
   ],
   "outputs": []
  },
  {
   "cell_type": "markdown",
   "metadata": {},
   "source": [
    "## Setting the initial state of the battery\n",
    "\n",
    "To run simulation we need to know the starting point which we will run it from, in terms of the value of the primary variables being modelled at the start of the simulation. The initial state of the model is setup using model.setupInitialState() Here we take the state of charge (SOC) given in the input and calculate equilibrium concentration based on theta0, theta100 and cmax.\n",
    ""
   ]
  },
  {
   "cell_type": "code",
   "execution_count": 19,
   "metadata": {},
   "source": [
    "initstate = model.setupInitialState();"
   ],
   "outputs": []
  },
  {
   "cell_type": "markdown",
   "metadata": {},
   "source": [
    "## Running the simulation\n",
    "\n",
    "Once we have the initial state, the model and the schedule, we can call the simulateScheduleAD function which will actually run the simulation.\n",
    "\n",
    "\n",
    "The outputs from the simulation are: \\- sols: which provides the current and voltage of the battery at each timestep. \\- states: which contains the values of the primary variables in the model at each timestep. \\- reports: which contains technical information about the steps used in the numerical solvers.\n",
    ""
   ]
  },
  {
   "cell_type": "code",
   "execution_count": 20,
   "metadata": {},
   "source": [
    "[sols, states, report] = simulateScheduleAD(initstate, model, schedule);"
   ],
   "outputs": []
  },
  {
   "cell_type": "markdown",
   "metadata": {},
   "source": [
    "## Plotting the results\n",
    "\n",
    "To get the results we use the matlab cellfun function to extract the values Control.E, Control.I and time from each timestep (cell in the cell array) in states. We can then plot the vectors.\n",
    ""
   ]
  },
  {
   "cell_type": "code",
   "execution_count": 21,
   "metadata": {},
   "source": [
    "E = cellfun(@(x) x.Control.E, states);\n",
    "I = cellfun(@(x) x.Control.I, states);\n",
    "time = cellfun(@(x) x.time, states);\n",
    "\n",
    "figure()\n",
    "\n",
    "subplot(1,2,1)\n",
    "plot(time/hour, E)\n",
    "xlabel('time  / h')\n",
    "ylabel('Cell Voltage  / V')\n",
    "\n",
    "subplot(1,2,2)\n",
    "plot(time/hour, I)\n",
    "xlabel('time  / h')\n",
    "ylabel('Cell Current  / A')\n",
    "\n",
    "%{\n",
    "Copyright 2021-2024 SINTEF Industry, Sustainable Energy Technology\n",
    "and SINTEF Digital, Mathematics & Cybernetics.\n",
    "\n",
    "This file is part of The Battery Modeling Toolbox BattMo\n",
    "\n",
    "BattMo is free software: you can redistribute it and/or modify\n",
    "it under the terms of the GNU General Public License as published by\n",
    "the Free Software Foundation, either version 3 of the License, or\n",
    "(at your option) any later version.\n",
    "\n",
    "BattMo is distributed in the hope that it will be useful,\n",
    "but WITHOUT ANY WARRANTY; without even the implied warranty of\n",
    "MERCHANTABILITY or FITNESS FOR A PARTICULAR PURPOSE.  See the\n",
    "GNU General Public License for more details.\n",
    "\n",
    "You should have received a copy of the GNU General Public License\n",
    "along with BattMo.  If not, see <http://www.gnu.org/licenses/>.\n",
    "%}"
   ],
   "outputs": []
}
 ],
 "metadata": {
  "kernelspec": {
   "display_name": "MATLAB (matlabkernel)",
   "language": "matlab",
   "name": "matlab"
  },
  "language_info": {
   "file_extension": ".m",
   "mimetype": "text/matlab",
   "name": "matlab",
   "nbconvert_exporter": "matlab",
   "pygments_lexer": "matlab",
   "version": "24.2.0.2863752"
  }
 },
 "nbformat": 4,
 "nbformat_minor": 4
}