{
 "cells": [
  {
   "cell_type": "markdown",
   "metadata": {},
   "source": [
    "\n",
    "# <span style=\"color:rgb(213,80,0)\">Simulation with Surface Electrolyte Interface (SEI)</span>\n",
    "\n",
    "For the SEI, we use the model described in the paper *Microstructure\\-resolved degradation simulation of lithium\\-ion batteries in space applications* from Bolay et al. ([https://doi.org/10.1016/j.powera.2022.100083](https://doi.org/10.1016/j.powera.2022.100083)).\n",
    "\n",
    "|      |      |      |      |\n",
    "| :-- | :-- | :-- | :-- |\n",
    "| asdas <br>  |  |  |   |\n",
    "| asd <br>  | asd <br>  | asda <br>  |   |\n",
    "|  |  |  |   |\n",
    "|  |  |  |   |\n",
    "|  |  |  | asd <br>   |\n",
    "|      |      |      |       |\n",
    "\n",
    "<br>\n",
    ""
   ]
  },
  {
   "cell_type": "code",
   "execution_count": 1,
   "metadata": {},
   "source": [
    "ne    = 'NegativeElectrode';\n",
    "pe    = 'PositiveElectrode';\n",
    "am    = 'ActiveMaterial';\n",
    "co    = 'Coating';\n",
    "sd    = 'SolidDiffusion';\n",
    "itf   = 'Interface';\n",
    "sei   = 'SolidElectrodeInterface';\n",
    "sr    = 'SideReaction';\n",
    "elyte = 'Electrolyte';\n",
    "ctrl  = 'Control';"
   ],
   "outputs": []
  },
  {
   "cell_type": "markdown",
   "metadata": {},
   "source": [
    "## Setup the properties of the Li\\-ion battery materials and of the cell design"
   ]
  },
  {
   "cell_type": "code",
   "execution_count": 2,
   "metadata": {},
   "source": [
    "jsonfilename = fullfile('ParameterData', 'BatteryCellParameters', 'LithiumIonBatteryCell', ...\n",
    "                        'lithium_ion_battery_nmc_graphite.json');\n",
    "jsonstruct = parseBattmoJson(jsonfilename);\n",
    "\n",
    "jsonstruct.use_thermal = false;\n",
    "\n",
    "jsonfilename = fullfile('ParameterData', 'ParameterSets', 'Bolay2022', 'bolay_sei_interface.json');\n",
    "jsonstruct_bolay = parseBattmoJson(jsonfilename);\n",
    "\n",
    "jsonstruct.(ne).(co).(am) = mergeJsonStructs({jsonstruct.(ne).(co).(am), ...\n",
    "                                              jsonstruct_bolay});\n",
    "\n",
    "jsonstruct.(ne).(co).(am).SEImodel = 'Bolay';\n",
    "\n",
    "jsontruct_control = struct( 'controlPolicy'     , 'CCCV'       , ...\n",
    "                            'initialControl'    , 'discharging', ...\n",
    "                            'numberOfCycles'    , 4            , ...\n",
    "                            'CRate'             , 1            , ...\n",
    "                            'DRate'             , 1            , ...\n",
    "                            'lowerCutoffVoltage', 3            , ...\n",
    "                            'upperCutoffVoltage', 4            , ...\n",
    "                            'dIdtLimit'         , 1e-4         , ...\n",
    "                            'dEdtLimit'         , 1e-4);\n",
    "\n",
    "jsonstruct.(ctrl) = jsontruct_control;\n",
    "\n",
    "jsonstruct.(ne).(co).(am).(itf).SEIelectronicDiffusionCoefficient = 3.5e-15;\n",
    "\n",
    "jsonstruct.SOC = 1;\n",
    "\n",
    "jsonfilename = fullfile('Examples', 'JsonDataFiles', 'geometry1d.json');\n",
    "jsontruct_geometry = parseBattmoJson(jsonfilename);\n",
    "\n",
    "jsonstruct = mergeJsonStructs({jsonstruct, jsontruct_geometry});\n",
    "\n",
    "output = runBatteryJson(jsonstruct);"
   ],
   "outputs": []
  },
  {
   "cell_type": "markdown",
   "metadata": {},
   "source": [
    "## Setup for plotting"
   ]
  },
  {
   "cell_type": "code",
   "execution_count": 3,
   "metadata": {},
   "source": [
    "ind = cellfun(@(x) not(isempty(x)), states);\n",
    "states = states(ind);\n",
    "time = cellfun(@(x) x.time, states);\n",
    "E    = cellfun(@(x) x.Control.E, states);\n",
    "I    = cellfun(@(x) x.Control.I, states);\n",
    "\n",
    "for istate = 1 : numel(states)\n",
    "    states{istate} = model.addVariables(states{istate});\n",
    "end"
   ],
   "outputs": []
  },
  {
   "cell_type": "markdown",
   "metadata": {},
   "source": [
    "## Plotting"
   ]
  },
  {
   "cell_type": "code",
   "execution_count": 4,
   "metadata": {},
   "source": [
    "close all\n",
    "\n",
    "set(0, 'defaultlinelinewidth', 3)\n",
    "set(0, 'defaultaxesfontsize', 15)"
   ],
   "outputs": []
  },
  {
   "cell_type": "code",
   "execution_count": 5,
   "metadata": {},
   "source": [
    "figure\n",
    "plot(time/hour, E, '*-');\n",
    "title('Voltage / V')\n",
    "xlabel('Time / h')"
   ],
   "outputs": []
  },
  {
   "cell_type": "code",
   "execution_count": 6,
   "metadata": {},
   "source": [
    "figure\n",
    "plot(time/hour, I);\n",
    "title('Current / A')\n",
    "xlabel('Time / h')"
   ],
   "outputs": []
  },
  {
   "cell_type": "code",
   "execution_count": 7,
   "metadata": {},
   "source": [
    "figure\n",
    "hold on\n",
    "\n",
    "delta = cellfun(@(state) state.(ne).(co).(am).(itf).SEIlength(end), states);\n",
    "plot(time/hour, delta/(nano*meter), 'displayname', 'at x_{max}')\n",
    "\n",
    "delta = cellfun(@(state) state.(ne).(co).(am).(itf).SEIlength(1), states);\n",
    "plot(time/hour, delta/(nano*meter), 'displayname', 'at x_{min}')\n",
    "\n",
    "title('SEI thickness in negative electrode/ nm')\n",
    "xlabel('Time / h')\n",
    "\n",
    "legend show"
   ],
   "outputs": []
  },
  {
   "cell_type": "code",
   "execution_count": 8,
   "metadata": {},
   "source": [
    "figure\n",
    "hold on\n",
    "\n",
    "u = cellfun(@(state) state.(ne).(co).(am).(itf).SEIvoltageDrop(end), states);\n",
    "plot(time/hour, u, 'displayname', 'at x_{max}')\n",
    "\n",
    "u = cellfun(@(state) state.(ne).(co).(am).(itf).SEIvoltageDrop(1), states);\n",
    "plot(time/hour, u, 'displayname', 'at x_{min}')\n",
    "\n",
    "title('SEI voltage drop in negative electrode/ V')\n",
    "xlabel('Time / h')\n",
    "legend show"
   ],
   "outputs": []
  },
  {
   "cell_type": "code",
   "execution_count": 9,
   "metadata": {},
   "source": [
    "figure\n",
    "\n",
    "vols = model.(ne).(co).G.getVolumes();\n",
    "\n",
    "for istate = 1 : numel(states)\n",
    "    state = states{istate};\n",
    "    state = model.evalVarName(state, {ne, co, am, itf, 'SEIconcentration'});\n",
    "    m(istate) = sum(vols.*state.(ne).(co).(am).(sd).cAverage);\n",
    "end\n",
    "\n",
    "plot(time/hour, m);\n",
    "title('Total lithium amount in negative electrode / mol')\n",
    "xlabel('Time / h')"
   ],
   "outputs": []
  },
  {
   "cell_type": "code",
   "execution_count": 10,
   "metadata": {},
   "source": [
    "quantities = [];\n",
    "\n",
    "vols = model.(ne).(co).G.getVolumes();\n",
    "\n",
    "for timeindex = 1 : numel(states)\n",
    "\n",
    "    state = states{timeindex};\n",
    "    state = model.evalVarName(state, {ne, co, am, itf, 'SEIconcentration'});\n",
    "    cSEI  = state.(ne).(co).(am).(itf).SEIconcentration;\n",
    "\n",
    "    Liqqt = sum(cSEI.*vols);\n",
    "    quantities(end + 1) = Liqqt;\n",
    "\n",
    "end\n",
    "\n",
    "figure\n",
    "plot(time/hour, quantities);\n",
    "title('Lithium quantity consummed');\n",
    "xlabel('Time / h');\n",
    "ylabel('quantity / mol');\n",
    "grid on;\n",
    "\n",
    "PE_Li_quantities          = [];\n",
    "NE_Li_quantities          = [];\n",
    "Electrolyte_Li_quantities = [];\n",
    "Electrodes_Li_quantities  = [];\n",
    "Total_Li_quantities       = [];\n",
    "\n",
    "for timeindex = 1 : numel(states)\n",
    "\n",
    "    amvf     = model.(pe).(co).volumeFractions(1);\n",
    "    vf       = model.(pe).(co).volumeFraction;\n",
    "    vols     = model.(pe).G.getVolumes;\n",
    "    cAverage = states{timeindex}.(pe).(co).(am).(sd).cAverage;\n",
    "\n",
    "    PE_qtt = sum(amvf.*vf.*vols.*cAverage);\n",
    "\n",
    "    amvf     = model.(ne).(co).volumeFractions(1);\n",
    "    vf       = model.(ne).(co).volumeFraction;\n",
    "    vols     = model.(ne).G.getVolumes;\n",
    "    cAverage = states{timeindex}.(ne).(co).(am).(sd).cAverage;\n",
    "\n",
    "    NE_qtt = sum(amvf.*vf.*vols.*cAverage);\n",
    "\n",
    "    Elyte_qtt = sum(model.Electrolyte.volumeFraction.*model.Electrolyte.G.getVolumes.*states{timeindex}.Electrolyte.c);\n",
    "\n",
    "    Elode_qtt = PE_qtt + NE_qtt;\n",
    "    Tot_Liqqt = PE_qtt + NE_qtt + Elyte_qtt;\n",
    "\n",
    "    PE_Li_quantities(end + 1)          = PE_qtt;\n",
    "    NE_Li_quantities(end + 1)          = NE_qtt;\n",
    "    Electrolyte_Li_quantities(end + 1) = Elyte_qtt;\n",
    "    Electrodes_Li_quantities(end + 1)  = Elode_qtt;\n",
    "    Total_Li_quantities(end + 1)       = Tot_Liqqt;\n",
    "end\n",
    "\n",
    "title('SEI thickness in negative electrode/ nm')\n",
    "xlabel('Time / h')\n",
    "\n",
    "legend show\n",
    "figure\n",
    "hold on\n",
    "\n",
    "plot(time/hour, PE_Li_quantities                ,'DisplayName','Positive Electrode');\n",
    "plot(time/hour, NE_Li_quantities                ,'DisplayName','Negative Electrode');\n",
    "plot(time/hour, Electrolyte_Li_quantities       ,'DisplayName','Electrolyte');\n",
    "plot(time/hour, Electrodes_Li_quantities        ,'DisplayName','Both Electrodes');\n",
    "plot(time/hour, Total_Li_quantities             ,'DisplayName','Total (except SEI)');\n",
    "plot(time/hour, Total_Li_quantities + quantities,'DisplayName','Total (including SEI)');\n",
    "plot(time/hour, quantities                      ,'DisplayName','In the SEI');\n",
    "title('Lithium quantity');\n",
    "xlabel('Time / h');\n",
    "ylabel('quantity / mol');\n",
    "grid on;\n",
    "legend show"
   ],
   "outputs": []
  },
  {
   "cell_type": "code",
   "execution_count": 11,
   "metadata": {},
   "source": [
    "figure\n",
    "\n",
    "capacity = computeCellCapacity(model);\n",
    "F = PhysicalConstants.F;\n",
    "\n",
    "qty  = quantities;\n",
    "qty  = qty - qty(1);\n",
    "\n",
    "plot(time/hour, 100 * (qty*F) / capacity);\n",
    "\n",
    "title('Percentage of Lithium consummed');\n",
    "xlabel('Time / h');\n",
    "ylabel('%');\n",
    "grid on;"
   ],
   "outputs": []
}
 ],
 "metadata": {
  "kernelspec": {
   "display_name": "MATLAB (matlabkernel)",
   "language": "matlab",
   "name": "matlab"
  },
  "language_info": {
   "file_extension": ".m",
   "mimetype": "text/matlab",
   "name": "matlab",
   "nbconvert_exporter": "matlab",
   "pygments_lexer": "matlab",
   "version": "24.1.0.2689473"
  }
 },
 "nbformat": 4,
 "nbformat_minor": 4
}