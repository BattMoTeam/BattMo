{
 "cells": [
  {
   "cell_type": "markdown",
   "metadata": {},
   "source": [
    "\n",
    "# <span style=\"color:rgb(213,80,0)\">Example of the function interface</span>\n",
    "\n",
    "We load a parameter set\n",
    ""
   ]
  },
  {
   "cell_type": "code",
   "execution_count": 1,
   "metadata": {},
   "source": [
    "jsonstruct = parseBattmoJson('ParameterData/MaterialProperties/LFP/LFP_Xu2015.json');"
   ],
   "outputs": []
  },
  {
   "cell_type": "markdown",
   "metadata": {},
   "source": [
    "\n",
    "In this json structure, we have the description of a function for the OCP. In this case, we have a tabulated function\n",
    ""
   ]
  },
  {
   "cell_type": "code",
   "execution_count": 2,
   "metadata": {},
   "source": [
    "disp(jsonstruct.openCircuitPotential)"
   ],
   "outputs": []
  },
  {
   "cell_type": "markdown",
   "metadata": {},
   "source": [
    "\n",
    "We use the function <samp>setupFunction</samp> to parse the input structure\n",
    ""
   ]
  },
  {
   "cell_type": "code",
   "execution_count": 3,
   "metadata": {},
   "source": [
    "[func, fn] = setupFunction(jsonstruct.openCircuitPotential);"
   ],
   "outputs": []
  },
  {
   "cell_type": "markdown",
   "metadata": {},
   "source": [
    "\n",
    "The function returns a <samp>Function</samp> object and a function handler that can be directly evaluated.\n",
    ""
   ]
  },
  {
   "cell_type": "code",
   "execution_count": 4,
   "metadata": {},
   "source": [
    "disp(func)"
   ],
   "outputs": []
  },
  {
   "cell_type": "markdown",
   "metadata": {},
   "source": [
    "\n",
    "We have access to the tabulated values\n",
    ""
   ]
  },
  {
   "cell_type": "code",
   "execution_count": 5,
   "metadata": {},
   "source": [
    "val = [func.dataX, func.dataY];\n",
    "disp(val)"
   ],
   "outputs": []
  },
  {
   "cell_type": "markdown",
   "metadata": {},
   "source": [
    "\n",
    "The function handler can be used directly as any other matlab function. For example, let us plot this function\n",
    ""
   ]
  },
  {
   "cell_type": "code",
   "execution_count": 6,
   "metadata": {},
   "source": [
    "x = linspace(0, 1, 100);\n",
    "y = fn(x);\n",
    "\n",
    "figure\n",
    "plot(x, y);\n",
    "xlabel('Stoichiometry');\n",
    "ylabel('Voltage / V');\n",
    "title('OCP function LFP Xu 2015')"
   ],
   "outputs": []
  },
  {
   "cell_type": "markdown",
   "metadata": {},
   "source": [
    "\n",
    "The interface is the same for a function defined with an other format. Let us load a function using a string format\n",
    ""
   ]
  },
  {
   "cell_type": "code",
   "execution_count": 7,
   "metadata": {},
   "source": [
    "jsonstruct = parseBattmoJson('ParameterData/ParameterSets/Chen2020/chen2020_positive_electrode_interface.json');"
   ],
   "outputs": []
  },
  {
   "cell_type": "markdown",
   "metadata": {},
   "source": [
    "\n",
    "In this json structure, we have the description of a function for the OCP. In this case, we have a tabulated function\n",
    ""
   ]
  },
  {
   "cell_type": "code",
   "execution_count": 8,
   "metadata": {},
   "source": [
    "disp(jsonstruct.openCircuitPotential)\n",
    "disp(jsonstruct.openCircuitPotential.expressions(1))"
   ],
   "outputs": []
  },
  {
   "cell_type": "raw",
   "metadata": {
"raw_mimetype": "text/restructuredtext"
},
   "source": [
    "\n",
    "We setup the function and obtain a function object of the class :battmo:`FormulaFunction` and the function handler.\n",
    ""
   ]
  },
  {
   "cell_type": "code",
   "execution_count": 9,
   "metadata": {},
   "source": [
    "[func, fn] = setupFunction(jsonstruct.openCircuitPotential);\n",
    "disp(func)"
   ],
   "outputs": []
  },
  {
   "cell_type": "markdown",
   "metadata": {},
   "source": [
    "\n",
    "We can use the function handler to evaluate the function\n",
    ""
   ]
  },
  {
   "cell_type": "code",
   "execution_count": 10,
   "metadata": {},
   "source": [
    "fn(0.5)"
   ],
   "outputs": []
  },
  {
   "cell_type": "markdown",
   "metadata": {},
   "source": [
    "\n",
    "Note that the function handler is a short cut for the generic method <samp>eval</samp> of the parent class <samp>Function</samp>\n",
    ""
   ]
  },
  {
   "cell_type": "code",
   "execution_count": 11,
   "metadata": {},
   "source": [
    "func.eval(0.5)"
   ],
   "outputs": []
  },
  {
   "cell_type": "markdown",
   "metadata": {},
   "source": [
    "\n",
    "As previously, we can plot the function\n",
    ""
   ]
  },
  {
   "cell_type": "code",
   "execution_count": 12,
   "metadata": {},
   "source": [
    "x = linspace(0, 1, 100);\n",
    "y = fn(x);\n",
    "\n",
    "figure\n",
    "plot(x, y);\n",
    "xlabel('Stoichiometry');\n",
    "ylabel('Voltage / V');\n",
    "title('OCP function NMC Chen 2020')"
   ],
   "outputs": []
}
 ],
 "metadata": {
  "kernelspec": {
   "display_name": "MATLAB (matlabkernel)",
   "language": "matlab",
   "name": "matlab"
  },
  "language_info": {
   "file_extension": ".m",
   "mimetype": "text/matlab",
   "name": "matlab",
   "nbconvert_exporter": "matlab",
   "pygments_lexer": "matlab",
   "version": "24.1.0.2689473"
  }
 },
 "nbformat": 4,
 "nbformat_minor": 4
}